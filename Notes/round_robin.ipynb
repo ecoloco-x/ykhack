{
 "cells": [
  {
   "cell_type": "markdown",
   "metadata": {},
   "source": [
    "<img src=\"https://bit.ly/2VnXWr2\" width=\"100\" align=\"left\">"
   ]
  },
  {
   "cell_type": "markdown",
   "metadata": {},
   "source": [
    "# Little Warm Up..."
   ]
  },
  {
   "cell_type": "markdown",
   "metadata": {},
   "source": [
    "Build a little Python programme in < 10 lines of code:\n",
    "\n",
    "- Use the **random.choice( )** function to display a random question and/or person that has to answer it (hint: there might be a library you have to import first) \n",
    "- *Optional: find a way to avoid repeated questions!*\n",
    "\n",
    "Makes sure you have **at least 5 min left** to ask each other these questions!"
   ]
  },
  {
   "cell_type": "markdown",
   "metadata": {},
   "source": [
    "![questions](https://www.dummies.com/wp-content/uploads/341483.image0.jpg)"
   ]
  },
  {
   "cell_type": "code",
   "execution_count": 53,
   "metadata": {},
   "outputs": [],
   "source": [
    "# PLEASE FIND SOME OF THE QUESTIONS BELOW\n",
    "questions = [\n",
    "    'Given the choice of anyone in the world, whom would you want as a dinner guest?',\n",
    "    'Would you like to be famous? In what way?',\n",
    "    'Before making a telephone call, do you ever rehearse what you are going to say?',\n",
    "    'What would constitute a perfect day for you?',\n",
    "    'When did you last sing to yourself? To someone else?',\n",
    "    '''If you were able to live to the age of 90 and retain either the mind or body of a\n",
    "    30-year-old for the last 60 years of your life, which would you want?''',\n",
    "    'Do you have a secret hunch about how you will die?',\n",
    "    'For what in your life do you feel most grateful?',\n",
    "    'If you could wake up tomorrow having gained any one quality or ability, what would it be?',\n",
    "    '''If a crystal ball could tell you the truth about yourself, your life, the future,\n",
    "    or anything else, what would you want to know?''',\n",
    "    'Share with your Ironhack fellow student an embarrassing moment in your life.',\n",
    "    'What, if anything, is too serious to be joked about?',\n",
    "    '''Your house, containing everything you own, catches fire. After saving your loved ones and pets,\n",
    "    you have time to safely make a final dash to save any one item. What would it be? Why?''',\n",
    "    'Where is the furthest you have traveled from your hometown?',\n",
    "    'If they made a movie about your life, who would you want to play you?',\n",
    "    '''You just got a free plane ticket to anywhere in the world but you have to leave immediately\n",
    "    and cannot pack anything. Where are you going to go?''',\n",
    "    'If you could ask your future self one question, what would it be?',\n",
    "    'What thing do you wish you knew how to do that you don’t understand?',\n",
    "    'What is the strangest thing you have ever eaten?',\n",
    "    'What is your favorite joke?',\n",
    "    'If you were president, what song would you want to play when you walked in the room?',\n",
    "    'If you didn’t need to sleep, what would you do with the extra time?',\n",
    "    '''You discover a beautiful island upon which you may build your own society.\n",
    "    You make the rules. What is the first rule you put into place?''',\n",
    "    'Who is your favorite movie villain?',\n",
    "    'What game makes you the most competitive?',\n",
    "    'What superpower would you give your best friend?',\n",
    "    'If you were one of Snow White’s dwarves, who would you be? You can make up your own name!',\n",
    "    'What is something that you can do better than anyone else that you know?',\n",
    "    'If you had your own talk show, who would your first three guests be?',\n",
    "    'Where would you visit if allowed: outer space or the ocean?'\n",
    "]\n",
    "\n",
    "#people = []"
   ]
  },
  {
   "cell_type": "code",
   "execution_count": 54,
   "metadata": {},
   "outputs": [
    {
     "name": "stdout",
     "output_type": "stream",
     "text": [
      "Q1: If you had your own talk show, who would your first three guests be?\n",
      "Q2: If you were president, what song would you want to play when you walked in the room?\n",
      "Q3: If you could ask your future self one question, what would it be?\n",
      "Q4: What thing do you wish you knew how to do that you don’t understand?\n",
      "Q5: You discover a beautiful island upon which you may build your own society.\n",
      "    You make the rules. What is the first rule you put into place?\n",
      "Q6: What would constitute a perfect day for you?\n",
      "Q7: If you were able to live to the age of 90 and retain either the mind or body of a\n",
      "    30-year-old for the last 60 years of your life, which would you want?\n",
      "Q8: If they made a movie about your life, who would you want to play you?\n",
      "Q9: What is something that you can do better than anyone else that you know?\n",
      "Q10: Before making a telephone call, do you ever rehearse what you are going to say?\n",
      "Q11: Where would you visit if allowed: outer space or the ocean?\n",
      "Q12: Do you have a secret hunch about how you will die?\n",
      "Q13: Share with your Ironhack fellow student an embarrassing moment in your life.\n",
      "Q14: Your house, containing everything you own, catches fire. After saving your loved ones and pets,\n",
      "    you have time to safely make a final dash to save any one item. What would it be? Why?\n",
      "Q15: If you were one of Snow White’s dwarves, who would you be? You can make up your own name!\n",
      "Q16: For what in your life do you feel most grateful?\n",
      "Q17: When did you last sing to yourself? To someone else?\n",
      "Q18: What, if anything, is too serious to be joked about?\n",
      "Q19: Where is the furthest you have traveled from your hometown?\n",
      "Q20: Given the choice of anyone in the world, whom would you want as a dinner guest?\n",
      "Q21: You just got a free plane ticket to anywhere in the world but you have to leave immediately\n",
      "    and cannot pack anything. Where are you going to go?\n",
      "Q22: What is your favorite joke?\n",
      "Q23: If you could wake up tomorrow having gained any one quality or ability, what would it be?\n",
      "Q24: If a crystal ball could tell you the truth about yourself, your life, the future,\n",
      "    or anything else, what would you want to know?\n",
      "Q25: What game makes you the most competitive?\n",
      "Q26: If you didn’t need to sleep, what would you do with the extra time?\n",
      "Q27: Would you like to be famous? In what way?\n",
      "Q28: What is the strangest thing you have ever eaten?\n",
      "Q29: What superpower would you give your best friend?\n",
      "Q30: Who is your favorite movie villain?\n"
     ]
    }
   ],
   "source": [
    "#PLEASE PUT YOUR CODE HERE\n",
    "import numpy as np\n",
    "import random\n",
    "\n",
    "len(questions)\n",
    "\n",
    "for i in range(len(questions)):\n",
    "    \n",
    "    q = random.choices(questions, k=1)\n",
    "    \n",
    "    q=q[0]\n",
    "    print(f'Q{i+1}: {q}')\n",
    "    questions.remove(q)\n"
   ]
  },
  {
   "cell_type": "code",
   "execution_count": 39,
   "metadata": {},
   "outputs": [
    {
     "name": "stdout",
     "output_type": "stream",
     "text": [
      "old questions list\n",
      "30\n",
      "True\n",
      "new questions list\n",
      "29\n"
     ]
    }
   ],
   "source": []
  },
  {
   "cell_type": "markdown",
   "metadata": {},
   "source": [
    "## Q1: What is the strangest thing you have ever eaten?\n",
    "#### karolina : crocodile\n",
    "#### vivien : pork brain \n",
    "#### yunke : snake "
   ]
  },
  {
   "cell_type": "markdown",
   "metadata": {},
   "source": [
    "## Q2: If you didn’t need to sleep, what would you do with the extra time?\n",
    "#### karolina : focus on business and kid\n",
    "#### vivien : have some coffee\n",
    "#### yunke : still go to sleep"
   ]
  },
  {
   "cell_type": "code",
   "execution_count": null,
   "metadata": {},
   "outputs": [],
   "source": []
  }
 ],
 "metadata": {
  "kernelspec": {
   "display_name": "Python 3 (ipykernel)",
   "language": "python",
   "name": "python3"
  },
  "language_info": {
   "codemirror_mode": {
    "name": "ipython",
    "version": 3
   },
   "file_extension": ".py",
   "mimetype": "text/x-python",
   "name": "python",
   "nbconvert_exporter": "python",
   "pygments_lexer": "ipython3",
   "version": "3.9.13"
  },
  "toc": {
   "base_numbering": 1,
   "nav_menu": {},
   "number_sections": true,
   "sideBar": true,
   "skip_h1_title": false,
   "title_cell": "Table of Contents",
   "title_sidebar": "Contents",
   "toc_cell": false,
   "toc_position": {},
   "toc_section_display": true,
   "toc_window_display": true
  }
 },
 "nbformat": 4,
 "nbformat_minor": 2
}
