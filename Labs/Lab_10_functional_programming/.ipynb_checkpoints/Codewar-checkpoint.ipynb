{
 "cells": [
  {
   "cell_type": "markdown",
   "id": "e7e1e34b",
   "metadata": {},
   "source": [
    "### counting sheep"
   ]
  },
  {
   "cell_type": "code",
   "execution_count": 52,
   "id": "424c9eaa",
   "metadata": {},
   "outputs": [],
   "source": [
    "def count_sheeps(array_of_sheep):\n",
    "    \n",
    "    counter = 0\n",
    "    for sheep in array_of_sheep:\n",
    "        if sheep:\n",
    "            counter += 1 \n",
    "    return counter"
   ]
  },
  {
   "cell_type": "markdown",
   "id": "bf32a9f3",
   "metadata": {},
   "source": [
    "### removing elements"
   ]
  },
  {
   "cell_type": "code",
   "execution_count": 55,
   "id": "26b17d5f",
   "metadata": {},
   "outputs": [],
   "source": [
    "def remove_every_other(my_list):\n",
    "    if len(my_list) == 1:\n",
    "        return my_list\n",
    "    else:\n",
    "        i = 1\n",
    "        while i < len(my_list):\n",
    "            my_list.pop(i)\n",
    "            i += 1\n",
    "        return my_list"
   ]
  },
  {
   "cell_type": "markdown",
   "id": "45e0dc86",
   "metadata": {},
   "source": [
    "### Convert number to reversed array of digits"
   ]
  },
  {
   "cell_type": "code",
   "execution_count": 62,
   "id": "478a124a",
   "metadata": {},
   "outputs": [],
   "source": [
    "def digitize(n):\n",
    "    t = str(n)\n",
    "    lst = [int(i) for i in t]\n",
    "    reversed = lst[::-1]\n",
    "    return reversed"
   ]
  },
  {
   "cell_type": "markdown",
   "id": "dc6a1feb",
   "metadata": {},
   "source": [
    "### square every digit"
   ]
  },
  {
   "cell_type": "code",
   "execution_count": 67,
   "id": "7a60a49b",
   "metadata": {},
   "outputs": [],
   "source": [
    "def square_digits(num):\n",
    "    # Your code here\n",
    "    t = str(num)\n",
    "    lst = [int(i) for i in t]\n",
    "    squared = [str(i**2) for i in lst]\n",
    "    result = \"\".join(squared)\n",
    "    result = int(result)\n",
    "    return result"
   ]
  },
  {
   "cell_type": "markdown",
   "id": "08000b1d",
   "metadata": {},
   "source": [
    "### Method For Counting Total Occurence Of Specific Digits"
   ]
  },
  {
   "cell_type": "code",
   "execution_count": 88,
   "id": "f5542c76",
   "metadata": {},
   "outputs": [],
   "source": [
    "class List(object):\n",
    "    def count_spec_digits(self, integers_list, digits_list):\n",
    "        # your code here\n",
    "        digits = [int(j) for i in integers_list for j in str(i) if j.isnumeric()]\n",
    "        lst = []\n",
    "        for i in digits_list:\n",
    "            count = digits.count(i)\n",
    "            tup = (i, count)\n",
    "            lst.append(tup)\n",
    "            \n",
    "        return lst"
   ]
  },
  {
   "cell_type": "code",
   "execution_count": null,
   "id": "24a00592",
   "metadata": {},
   "outputs": [],
   "source": []
  }
 ],
 "metadata": {
  "kernelspec": {
   "display_name": "Python 3 (ipykernel)",
   "language": "python",
   "name": "python3"
  },
  "language_info": {
   "codemirror_mode": {
    "name": "ipython",
    "version": 3
   },
   "file_extension": ".py",
   "mimetype": "text/x-python",
   "name": "python",
   "nbconvert_exporter": "python",
   "pygments_lexer": "ipython3",
   "version": "3.9.13"
  }
 },
 "nbformat": 4,
 "nbformat_minor": 5
}
