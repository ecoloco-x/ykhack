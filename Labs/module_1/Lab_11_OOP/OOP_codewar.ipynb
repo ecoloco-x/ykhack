{
 "cells": [
  {
   "cell_type": "markdown",
   "id": "282a8e1d",
   "metadata": {},
   "source": [
    "### Remove All The Marked Elements of a List\n"
   ]
  },
  {
   "cell_type": "code",
   "execution_count": 3,
   "id": "aa3b0a88",
   "metadata": {},
   "outputs": [],
   "source": [
    "class List:\n",
    "    def remove_(self, integer_list, values_list):\n",
    "        #your code here\n",
    "        return [i for i in integer_list if i not in values_list]"
   ]
  },
  {
   "cell_type": "markdown",
   "id": "e3647dcc",
   "metadata": {},
   "source": [
    "### Ordered count"
   ]
  },
  {
   "cell_type": "code",
   "execution_count": 26,
   "id": "095a9002",
   "metadata": {},
   "outputs": [],
   "source": [
    "def ordered_count(inp):\n",
    "    lst = []\n",
    "    for i in inp:\n",
    "        if i not in lst:\n",
    "            lst.append(i)\n",
    "            \n",
    "    lst_new = []\n",
    "    for i in lst:\n",
    "        tup = (i, inp.count(i))\n",
    "        lst_new.append(tup)\n",
    "    return lst_new"
   ]
  },
  {
   "cell_type": "code",
   "execution_count": null,
   "id": "5c4b9c0f",
   "metadata": {},
   "outputs": [],
   "source": []
  }
 ],
 "metadata": {
  "kernelspec": {
   "display_name": "Python 3 (ipykernel)",
   "language": "python",
   "name": "python3"
  },
  "language_info": {
   "codemirror_mode": {
    "name": "ipython",
    "version": 3
   },
   "file_extension": ".py",
   "mimetype": "text/x-python",
   "name": "python",
   "nbconvert_exporter": "python",
   "pygments_lexer": "ipython3",
   "version": "3.9.13"
  }
 },
 "nbformat": 4,
 "nbformat_minor": 5
}
