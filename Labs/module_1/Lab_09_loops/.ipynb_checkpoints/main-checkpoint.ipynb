{
 "cells": [
  {
   "cell_type": "markdown",
   "metadata": {},
   "source": [
    "# Loops\n",
    "\n",
    "Complete the following set of exercises to solidify your knowledge for Loops."
   ]
  },
  {
   "cell_type": "markdown",
   "metadata": {},
   "source": [
    "#### 1. Print first 10 natural numbers using while loop"
   ]
  },
  {
   "cell_type": "code",
   "execution_count": 1,
   "metadata": {},
   "outputs": [
    {
     "name": "stdout",
     "output_type": "stream",
     "text": [
      "0\n",
      "1\n",
      "2\n",
      "3\n",
      "4\n",
      "5\n",
      "6\n",
      "7\n",
      "8\n",
      "9\n"
     ]
    }
   ],
   "source": [
    "i = 0\n",
    "while i < 10:\n",
    "    print(i)\n",
    "    i += 1"
   ]
  },
  {
   "cell_type": "markdown",
   "metadata": {},
   "source": [
    "#### 2. Display numbers from a list using loop\n",
    "Write a program to display only those numbers from a list that satisfy the following conditions\n",
    "\n",
    "The number must be divisible by five\n",
    "\n",
    "If the number is greater than 150, then skip it and move to the next number\n",
    "\n",
    "If the number is greater than 500, then stop the loop\n",
    "\n",
    "numbers = [12, 75, 150, 180, 145, 525, 50]"
   ]
  },
  {
   "cell_type": "code",
   "execution_count": 2,
   "metadata": {},
   "outputs": [
    {
     "name": "stdout",
     "output_type": "stream",
     "text": [
      "75\n",
      "150\n",
      "145\n",
      "number greater than 500, stop program\n"
     ]
    }
   ],
   "source": [
    "numbers = [12, 75, 150, 180, 145, 525, 50]\n",
    "for i in numbers:\n",
    "    if i > 500:\n",
    "        print('number greater than 500, stop program')\n",
    "        break\n",
    "    elif i > 150:\n",
    "        continue\n",
    "    elif i % 5 ==0:\n",
    "        print(i)\n"
   ]
  },
  {
   "cell_type": "markdown",
   "metadata": {},
   "source": [
    "#### 3.Write a Python program to check the validity of a password (input from users).\n",
    "\n",
    "Validation :\n",
    "\n",
    "At least 1 letter between [a-z] and 1 letter between [A-Z].\n",
    "\n",
    "At least 1 number between [0-9].\n",
    "\n",
    "At least 1 character from [$#@].\n",
    "\n",
    "Minimum length 6 characters.\n",
    "\n",
    "Maximum length 16 characters."
   ]
  },
  {
   "cell_type": "code",
   "execution_count": 64,
   "metadata": {},
   "outputs": [
    {
     "name": "stdout",
     "output_type": "stream",
     "text": [
      "please enter your password: fdsFDSQ32#\n",
      "valid password!\n"
     ]
    }
   ],
   "source": [
    "import re\n",
    "def pwd_validation():\n",
    "    w = input('please enter your password: ')\n",
    "\n",
    "    lower_letter = re.findall('[a-z]',w)\n",
    "    cap_letter = re.findall('[A-Z]',w)\n",
    "    num = re.findall('[0-9]',w)\n",
    "    character = re.findall('[$#@]',w)\n",
    "    length = len(w)\n",
    "    \n",
    "    while True:\n",
    "        if len(lower_letter) < 1:\n",
    "            print('password needs to contain lower letter, please enter again')\n",
    "            break\n",
    "        elif len(cap_letter) < 1:\n",
    "            print('password needs to contain capital letter, please enter again')\n",
    "            break\n",
    "        elif len(character) < 1:\n",
    "            print('password needs to contain character from $#@, please enter again')\n",
    "            break\n",
    "        elif len(num) < 1:\n",
    "            print('password needs to contain capital letter, please enter again')\n",
    "            break\n",
    "        elif length > 16:\n",
    "            print('password needs to have 16 characters max')\n",
    "        elif length < 6:\n",
    "            print('password needs to have 6 characters minimum')\n",
    "            break\n",
    "        else:\n",
    "            print('valid password!')\n",
    "            break\n",
    "\n",
    "test = pwd_validation()\n"
   ]
  },
  {
   "cell_type": "markdown",
   "metadata": {},
   "source": [
    "#### 4. Break the loop when x is 6, and see what happens with the else block"
   ]
  },
  {
   "cell_type": "markdown",
   "metadata": {},
   "source": [
    "it's not executed"
   ]
  },
  {
   "cell_type": "markdown",
   "metadata": {},
   "source": [
    "#### 5. Write a Python program to calculate the sum and average of n integer numbers (input from the user). Input 0 to finish.\n"
   ]
  },
  {
   "cell_type": "code",
   "execution_count": 66,
   "metadata": {},
   "outputs": [
    {
     "name": "stdout",
     "output_type": "stream",
     "text": [
      "please enter numbers (separated by comma): 0\n",
      "program finished\n"
     ]
    }
   ],
   "source": [
    "def sum_and_avg():\n",
    "    nums = input('please enter numbers (separated by comma): ')\n",
    "    type(nums)\n",
    "    nums = nums.split(sep = ',')\n",
    "    # convert to int\n",
    "    nums = [int(num) for num in nums]\n",
    "    if len(nums) == 1 and nums[0] == 0:\n",
    "        print('program finished')\n",
    "    else:\n",
    "        num_sum = sum(nums)\n",
    "        num_average = num_sum / len(nums)\n",
    "        print('sum of the numbers is ',num_sum)\n",
    "        print('average of the numbers is',num_average)\n",
    "        \n",
    "x = sum_and_avg()"
   ]
  },
  {
   "cell_type": "code",
   "execution_count": null,
   "metadata": {},
   "outputs": [],
   "source": []
  }
 ],
 "metadata": {
  "kernelspec": {
   "display_name": "Python 3 (ipykernel)",
   "language": "python",
   "name": "python3"
  },
  "language_info": {
   "codemirror_mode": {
    "name": "ipython",
    "version": 3
   },
   "file_extension": ".py",
   "mimetype": "text/x-python",
   "name": "python",
   "nbconvert_exporter": "python",
   "pygments_lexer": "ipython3",
   "version": "3.9.13"
  }
 },
 "nbformat": 4,
 "nbformat_minor": 2
}
