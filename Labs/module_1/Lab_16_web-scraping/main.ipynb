{
 "cells": [
  {
   "cell_type": "markdown",
   "metadata": {},
   "source": [
    "# Web Scraping Lab\n",
    "\n",
    "You will find in this notebook some scrapy exercises to practise your scraping skills.\n",
    "\n",
    "**Tips:**\n",
    "\n",
    "- Check the response status code for each request to ensure you have obtained the intended content.\n",
    "- Print the response text in each request to understand the kind of info you are getting and its format.\n",
    "- Check for patterns in the response text to extract the data/info requested in each question.\n",
    "- Visit the urls below and take a look at their source code through Chrome DevTools. You'll need to identify the html tags, special class names, etc used in the html content you are expected to extract.\n",
    "\n",
    "**Resources**:\n",
    "- [Requests library](http://docs.python-requests.org/en/master/#the-user-guide)\n",
    "- [Beautiful Soup Doc](https://www.crummy.com/software/BeautifulSoup/bs4/doc/)\n",
    "- [Urllib](https://docs.python.org/3/library/urllib.html#module-urllib)\n",
    "- [re lib](https://docs.python.org/3/library/re.html)\n",
    "- [lxml lib](https://lxml.de/)\n",
    "- [Scrapy](https://scrapy.org/)\n",
    "- [List of HTTP status codes](https://en.wikipedia.org/wiki/List_of_HTTP_status_codes)\n",
    "- [HTML basics](http://www.simplehtmlguide.com/cheatsheet.php)\n",
    "- [CSS basics](https://www.cssbasics.com/#page_start)"
   ]
  },
  {
   "cell_type": "markdown",
   "metadata": {},
   "source": [
    "#### Below are the libraries and modules you may need. `requests`,  `BeautifulSoup` and `pandas` are already imported for you. If you prefer to use additional libraries feel free to do it."
   ]
  },
  {
   "cell_type": "code",
   "execution_count": 1,
   "metadata": {},
   "outputs": [],
   "source": [
    "import requests\n",
    "from bs4 import BeautifulSoup\n",
    "import pandas as pd\n",
    "import urllib.request\n",
    "from PIL import Image\n",
    "from io import BytesIO\n",
    "import sys"
   ]
  },
  {
   "cell_type": "markdown",
   "metadata": {},
   "source": [
    "#### Download, parse (using BeautifulSoup), and print the content from the Trending Developers page from GitHub:"
   ]
  },
  {
   "cell_type": "code",
   "execution_count": 45,
   "metadata": {},
   "outputs": [],
   "source": [
    "# This is the url you will scrape in this exercise\n",
    "url = 'https://github.com/trending/developers'"
   ]
  },
  {
   "cell_type": "code",
   "execution_count": 46,
   "metadata": {},
   "outputs": [],
   "source": [
    "# your code here\n",
    "response = requests.get(url)\n",
    "content = response.content"
   ]
  },
  {
   "cell_type": "code",
   "execution_count": 51,
   "metadata": {},
   "outputs": [],
   "source": [
    "# create a new instance of bs, pass the content to be read and parser method (lxml means string)\n",
    "soup = BeautifulSoup(content, 'lxml')\n",
    "# print(soup.prettify())"
   ]
  },
  {
   "cell_type": "markdown",
   "metadata": {},
   "source": [
    "#### Display the names of the trending developers retrieved in the previous step.\n",
    "\n",
    "Your output should be a Python list of developer names. Each name should not contain any html tag.\n",
    "\n",
    "**Instructions:**\n",
    "\n",
    "1. Find out the html tag and class names used for the developer names. You can achieve this using Chrome DevTools.\n",
    "\n",
    "1. Use BeautifulSoup to extract all the html elements that contain the developer names.\n",
    "\n",
    "1. Use string manipulation techniques to replace whitespaces and linebreaks (i.e. `\\n`) in the *text* of each html element. Use a list to store the clean names.\n",
    "\n",
    "1. Print the list of names.\n",
    "\n",
    "Your output should look like below:\n",
    "\n",
    "```\n",
    "['trimstray (@trimstray)',\n",
    " 'joewalnes (JoeWalnes)',\n",
    " 'charlax (Charles-AxelDein)',\n",
    " 'ForrestKnight (ForrestKnight)',\n",
    " 'revery-ui (revery-ui)',\n",
    " 'alibaba (Alibaba)',\n",
    " 'Microsoft (Microsoft)',\n",
    " 'github (GitHub)',\n",
    " 'facebook (Facebook)',\n",
    " 'boazsegev (Bo)',\n",
    " 'google (Google)',\n",
    " 'cloudfetch',\n",
    " 'sindresorhus (SindreSorhus)',\n",
    " 'tensorflow',\n",
    " 'apache (TheApacheSoftwareFoundation)',\n",
    " 'DevonCrawford (DevonCrawford)',\n",
    " 'ARMmbed (ArmMbed)',\n",
    " 'vuejs (vuejs)',\n",
    " 'fastai (fast.ai)',\n",
    " 'QiShaoXuan (Qi)',\n",
    " 'joelparkerhenderson (JoelParkerHenderson)',\n",
    " 'torvalds (LinusTorvalds)',\n",
    " 'CyC2018',\n",
    " 'komeiji-satori (神楽坂覚々)',\n",
    " 'script-8']\n",
    " ```"
   ]
  },
  {
   "cell_type": "code",
   "execution_count": 52,
   "metadata": {},
   "outputs": [
    {
     "data": {
      "text/plain": [
       "['Ariel Mashraki',\n",
       " 'Alessandro Ros',\n",
       " 'Jonny Borges',\n",
       " 'Andrey Sitnik',\n",
       " 'Nathan Rajlich',\n",
       " 'Sandwich',\n",
       " 'Lukáš Křečan',\n",
       " 'Sergio del Amo',\n",
       " 'George Hotz',\n",
       " 'chencheng (云谦)',\n",
       " 'Gavin John',\n",
       " 'Connor Clark',\n",
       " 'Paramtamtam',\n",
       " 'Benjamin Pasero',\n",
       " 'fengyun.rui',\n",
       " 'Jonny Burger',\n",
       " 'Matthew Tancik',\n",
       " 'Aliaksandr Valialkin',\n",
       " 'Daniel Vaz Gaspar',\n",
       " 'Alex Rodionov',\n",
       " 'Harrison Chase',\n",
       " 'Giedrius Statkevičius',\n",
       " 'Stefan Prodan',\n",
       " 'Bjorn Lu',\n",
       " 'John Kerl']"
      ]
     },
     "execution_count": 52,
     "metadata": {},
     "output_type": "execute_result"
    }
   ],
   "source": [
    "# .find will only look for the first instance of the arg, use find_all\n",
    "# tags = soup.find_all('div', class_= \"col-md-6\")\n",
    "# for tag in tags:\n",
    "#     print(tag.h1['class'])\n",
    "\n",
    "# tags = soup.find_all('h1', attrs={'class':['h3','lh-condensed']}) # why doesnt this work ??????\n",
    "\n",
    "\n",
    "tags = soup.find_all('h1', attrs={'class':'lh-condensed'})\n",
    "tags = soup.find_all('h1', attrs={'class':'h3'})\n",
    "# why did this work ?????\n",
    "\n",
    "# # tags = soup.find_all('h1', 'class:h3 lh-condensed')\n",
    "names = []\n",
    "for tag in tags:\n",
    "    name = tag.text.split()\n",
    "    name = ' '.join(name)\n",
    "    names.append(name)\n",
    "names"
   ]
  },
  {
   "cell_type": "markdown",
   "metadata": {},
   "source": [
    "#### Display the trending Python repositories in GitHub.\n",
    "\n",
    "The steps to solve this problem is similar to the previous one except that you need to find out the repository names instead of developer names."
   ]
  },
  {
   "cell_type": "code",
   "execution_count": 53,
   "metadata": {},
   "outputs": [],
   "source": [
    "# This is the url you will scrape in this exercise\n",
    "url = 'https://github.com/trending/python?since=daily'"
   ]
  },
  {
   "cell_type": "code",
   "execution_count": 54,
   "metadata": {},
   "outputs": [
    {
     "data": {
      "text/plain": [
       "['golang-cheat-sheet',\n",
       " 'rtsp-simple-server',\n",
       " 'getx',\n",
       " 'nanoid',\n",
       " 'Java-WebSocket',\n",
       " 'nostr-watch',\n",
       " 'ShedLock',\n",
       " 'tinygrad',\n",
       " 'awesome-javascript',\n",
       " 'jekyll-label-action',\n",
       " 'web-features-evergreen',\n",
       " 'free-domains',\n",
       " 'sudo-prompt',\n",
       " 'notes',\n",
       " 'Illusion-Diffusion',\n",
       " 'fasthttp',\n",
       " 'Flask-AppBuilder',\n",
       " 'Maccy',\n",
       " 'langchain',\n",
       " 'timoni',\n",
       " 'publint',\n",
       " 'miller']"
      ]
     },
     "execution_count": 54,
     "metadata": {},
     "output_type": "execute_result"
    }
   ],
   "source": [
    "# your code here\n",
    "\n",
    "tags = soup.find_all('svg', class_='lh-condensed')\n",
    "tags = soup.find_all('h1', class_='h4')\n",
    "\n",
    "repos = []\n",
    "for tag in tags:\n",
    "    repo = tag.a.text.split()\n",
    "    repo = ''.join(repo)\n",
    "    repos.append(repo)\n",
    "\n",
    "repos"
   ]
  },
  {
   "cell_type": "markdown",
   "metadata": {},
   "source": [
    "#### Display all the image links from Walt Disney wikipedia page."
   ]
  },
  {
   "cell_type": "code",
   "execution_count": 55,
   "metadata": {},
   "outputs": [],
   "source": [
    "# This is the url you will scrape in this exercise\n",
    "url = 'https://en.wikipedia.org/wiki/Walt_Disney'"
   ]
  },
  {
   "cell_type": "code",
   "execution_count": 56,
   "metadata": {},
   "outputs": [
    {
     "data": {
      "text/plain": [
       "['https://en.wikipedia.org/static/images/icons/wikipedia.png',\n",
       " 'https://upload.wikimedia.org/wikipedia/en/thumb/e/e7/Cscr-featured.svg/20px-Cscr-featured.svg.png',\n",
       " 'https://upload.wikimedia.org/wikipedia/en/thumb/8/8c/Extended-protection-shackle.svg/20px-Extended-protection-shackle.svg.png',\n",
       " 'https://upload.wikimedia.org/wikipedia/commons/thumb/8/87/Walt_Disney_1942_signature.svg/150px-Walt_Disney_1942_signature.svg.png',\n",
       " 'https://upload.wikimedia.org/wikipedia/commons/thumb/3/3a/Walt_Disney_Birthplace_Exterior_Hermosa_Chicago_Illinois.jpg/220px-Walt_Disney_Birthplace_Exterior_Hermosa_Chicago_Illinois.jpg',\n",
       " 'https://upload.wikimedia.org/wikipedia/commons/thumb/c/c4/Walt_Disney_envelope_ca._1921.jpg/220px-Walt_Disney_envelope_ca._1921.jpg',\n",
       " 'https://upload.wikimedia.org/wikipedia/commons/thumb/0/0d/Trolley_Troubles_poster.jpg/170px-Trolley_Troubles_poster.jpg',\n",
       " 'https://upload.wikimedia.org/wikipedia/en/thumb/4/4e/Steamboat-willie.jpg/170px-Steamboat-willie.jpg',\n",
       " 'https://upload.wikimedia.org/wikipedia/commons/thumb/5/57/Walt_Disney_1935.jpg/170px-Walt_Disney_1935.jpg',\n",
       " 'https://upload.wikimedia.org/wikipedia/commons/thumb/c/cd/Walt_Disney_Snow_white_1937_trailer_screenshot_%2813%29.jpg/220px-Walt_Disney_Snow_white_1937_trailer_screenshot_%2813%29.jpg']"
      ]
     },
     "execution_count": 56,
     "metadata": {},
     "output_type": "execute_result"
    }
   ],
   "source": [
    "# your code here\n",
    "res = requests.get(url)\n",
    "content = res.content\n",
    "\n",
    "soup = BeautifulSoup(content, 'lxml')\n",
    "# print(soup.prettify())\n",
    "\n",
    "images = soup.find_all('img')\n",
    "lst = []\n",
    "for image in images:\n",
    "    \n",
    "    src = image['src'] #image_url\n",
    "    image_url = requests.compat.urljoin(url, src)\n",
    "    \n",
    "    # print(image_url)\n",
    "    lst.append(image_url)\n",
    "    \n",
    "lst_img = [i for i in lst if i.endswith('png') or i.endswith('jpg')]\n",
    "lst_img[:10]\n",
    "    \n",
    "    \n",
    "\n",
    "    #######################################\n",
    "    # test if url can be opened\n",
    "# for image_url in lst_img:\n",
    "# #     ext = image_url.rsplit('.',1)[-1]\n",
    "# #     print(ext)\n",
    "    \n",
    "# #     temp_name = 'temp.' + ext\n",
    "#     urllib.request.urlretrieve(image_url, 'name')\n",
    "\n",
    "#     img = Image.open('name')\n",
    "\n",
    "#     img.show()\n",
    "    \n"
   ]
  },
  {
   "cell_type": "markdown",
   "metadata": {},
   "source": [
    "#### Retrieve an arbitary Wikipedia page of \"Python\" and create a list of links on that page."
   ]
  },
  {
   "cell_type": "code",
   "execution_count": 57,
   "metadata": {},
   "outputs": [],
   "source": [
    "# This is the url you will scrape in this exercise\n",
    "url ='https://en.wikipedia.org/wiki/Python' "
   ]
  },
  {
   "cell_type": "code",
   "execution_count": 58,
   "metadata": {},
   "outputs": [
    {
     "data": {
      "text/plain": [
       "['https://en.wikipedia.org/wiki/Python#bodyContent',\n",
       " 'https://en.wikipedia.org/wiki/Main_Page',\n",
       " 'https://en.wikipedia.org/wiki/Special:Search',\n",
       " 'https://en.wikipedia.org/w/index.php?title=Special:CreateAccount&returnto=Python',\n",
       " 'https://en.wikipedia.org/w/index.php?title=Special:UserLogin&returnto=Python',\n",
       " 'https://en.wikipedia.org/w/index.php?title=Special:CreateAccount&returnto=Python',\n",
       " 'https://en.wikipedia.org/w/index.php?title=Special:UserLogin&returnto=Python',\n",
       " 'https://en.wikipedia.org/wiki/Help:Introduction',\n",
       " 'https://en.wikipedia.org/wiki/Special:MyTalk',\n",
       " 'https://en.wikipedia.org/wiki/Special:MyContributions',\n",
       " 'https://en.wikipedia.org/wiki/Main_Page',\n",
       " 'https://en.wikipedia.org/wiki/Wikipedia:Contents',\n",
       " 'https://en.wikipedia.org/wiki/Portal:Current_events',\n",
       " 'https://en.wikipedia.org/wiki/Special:Random',\n",
       " 'https://en.wikipedia.org/wiki/Wikipedia:About']"
      ]
     },
     "execution_count": 58,
     "metadata": {},
     "output_type": "execute_result"
    }
   ],
   "source": [
    "# your code here\n",
    "res = requests.get(url)\n",
    "content = res.content\n",
    "\n",
    "soup = BeautifulSoup(content, 'lxml')\n",
    "\n",
    "tags = soup.find_all('a')\n",
    "lst=[]\n",
    "for i in tags:\n",
    "    href = i['href']\n",
    "    link = requests.compat.urljoin(url, href)\n",
    "    lst.append(link)\n",
    "lst[:15]"
   ]
  },
  {
   "cell_type": "markdown",
   "metadata": {},
   "source": [
    "#### Find the number of titles that have changed in the United States Code since its last release point."
   ]
  },
  {
   "cell_type": "code",
   "execution_count": 59,
   "metadata": {},
   "outputs": [],
   "source": [
    "# This is the url you will scrape in this exercise\n",
    "url = 'http://uscode.house.gov/download/download.shtml'"
   ]
  },
  {
   "cell_type": "code",
   "execution_count": 60,
   "metadata": {},
   "outputs": [
    {
     "name": "stdout",
     "output_type": "stream",
     "text": [
      "Title 2 - The Congress\n",
      "Title 6 - Domestic Security\n",
      "Title 15 - Commerce and Trade\n",
      "Title 16 - Conservation\n",
      "Title 18 - Crimes and Criminal Procedure ٭\n",
      "Title 22 - Foreign Relations and Intercourse\n",
      "Title 23 - Highways ٭\n",
      "Title 25 - Indians\n",
      "Title 29 - Labor\n",
      "Title 31 - Money and Finance ٭\n",
      "Title 34 - Crime Control and Law Enforcement\n",
      "Title 38 - Veterans' Benefits ٭\n",
      "Title 41 - Public Contracts ٭\n",
      "Title 42 - The Public Health and Welfare\n"
     ]
    },
    {
     "name": "stderr",
     "output_type": "stream",
     "text": [
      "C:\\Users\\ykxio\\anaconda3\\lib\\site-packages\\bs4\\builder\\__init__.py:545: XMLParsedAsHTMLWarning: It looks like you're parsing an XML document using an HTML parser. If this really is an HTML document (maybe it's XHTML?), you can ignore or filter this warning. If it's XML, you should know that using an XML parser will be more reliable. To parse this document as XML, make sure you have the lxml package installed, and pass the keyword argument `features=\"xml\"` into the BeautifulSoup constructor.\n",
      "  warnings.warn(\n"
     ]
    }
   ],
   "source": [
    "# your code here\n",
    "res = requests.get(url)\n",
    "content = res.content\n",
    "\n",
    "soup = BeautifulSoup(content, 'lxml')\n",
    "tags = soup.find_all('div', class_ = \"usctitlechanged\")\n",
    "for tag in tags:\n",
    "    titles = ' '.join(tag.text.split())\n",
    "    print(titles)"
   ]
  },
  {
   "cell_type": "markdown",
   "metadata": {},
   "source": [
    "#### Find a Python list with the top ten FBI's Most Wanted names."
   ]
  },
  {
   "cell_type": "code",
   "execution_count": 14,
   "metadata": {},
   "outputs": [],
   "source": [
    "# This is the url you will scrape in this exercise\n",
    "url = 'https://www.fbi.gov/wanted/topten'"
   ]
  },
  {
   "cell_type": "code",
   "execution_count": 15,
   "metadata": {},
   "outputs": [
    {
     "name": "stdout",
     "output_type": "stream",
     "text": [
      "ALEJANDRO ROSALES CASTILLO\n",
      "YULAN ADONAY ARCHAGA CARIAS\n",
      "RUJA IGNATOVA\n",
      "ARNOLDO JIMENEZ\n",
      "OMAR ALEXANDER CARDENAS\n",
      "ALEXIS FLORES\n",
      "BHADRESHKUMAR CHETANBHAI PATEL\n",
      "JOSE RODOLFO VILLARREAL-HERNANDEZ\n",
      "MICHAEL JAMES PRATT\n",
      "RAFAEL CARO-QUINTERO\n"
     ]
    }
   ],
   "source": [
    "# your code here\n",
    "res = requests.get(url)\n",
    "content = res.content\n",
    "\n",
    "soup = BeautifulSoup(content, 'lxml')\n",
    "tags = soup.find_all('h3', class_='title')\n",
    "for tag in tags:\n",
    "    name = tag.a.text\n",
    "    print(name)"
   ]
  },
  {
   "cell_type": "markdown",
   "metadata": {},
   "source": [
    "####  Display the 20 latest earthquakes info (date, time, latitude, longitude and region name) by the EMSC as a pandas dataframe."
   ]
  },
  {
   "cell_type": "code",
   "execution_count": 16,
   "metadata": {},
   "outputs": [],
   "source": [
    "# This is the url you will scrape in this exercise\n",
    "url = 'https://www.emsc-csem.org/Earthquake/'"
   ]
  },
  {
   "cell_type": "code",
   "execution_count": 17,
   "metadata": {},
   "outputs": [],
   "source": [
    "# your code here\n",
    "res = requests.get(url)\n",
    "content = res.content\n",
    "\n",
    "soup = BeautifulSoup(content, 'lxml')\n",
    "tags = soup.find_all('tr', class_ = ['ligne1','ligne2']) # same as or selecter\n",
    "\n",
    "df = pd.DataFrame()"
   ]
  },
  {
   "cell_type": "code",
   "execution_count": 18,
   "metadata": {},
   "outputs": [],
   "source": [
    "date = []\n",
    "time = []\n",
    "locations = [] # to store location and mag temporarily\n",
    "regions = []\n",
    "depths = []\n",
    "\n",
    "\n",
    "# loop thru each row\n",
    "for tag in tags:  \n",
    "    \n",
    "#     print(tag,'\\n\\n')\n",
    "    \n",
    "    # get date and time\n",
    "    dtime = tag.find_all('td', class_ ='tabev6') # same as or selecter\n",
    "    for d in dtime:\n",
    "        datetime = d.a.text.split()\n",
    "        \n",
    "        # store values in corresponding list\n",
    "        date.append(datetime[0])\n",
    "        time.append(datetime[1])\n",
    "    \n",
    "    \n",
    "    # get latitude & longitude & magnitude\n",
    "    location =tag.find_all('td', class_ = ['tabev1','tabev2'])\n",
    "    # create a sub table to store values in each loop to slice them later\n",
    "    loc_sub = []\n",
    "    for l in location:\n",
    "        loc = l.text.replace(u'\\xa0', u' ').rstrip()\n",
    "        loc_sub.append(loc)\n",
    "    # append sub table into main\n",
    "    locations.append(loc_sub)\n",
    "\n",
    "    \n",
    "    \n",
    "    # get region\n",
    "    reg = tag.find_all('td', class_ ='tb_region') # same as or selecter\n",
    "    for r in reg:\n",
    "        region = r.text.lstrip()\n",
    "        regions.append(region)\n",
    "        \n",
    "        \n",
    "        \n",
    "    # get depth of earthquake\n",
    "    dep = tag.find_all('td', class_ = 'tabev3')\n",
    "    for d in dep:\n",
    "        dep = d.text\n",
    "        depths.append(dep)\n",
    "\n"
   ]
  },
  {
   "cell_type": "code",
   "execution_count": 19,
   "metadata": {},
   "outputs": [],
   "source": [
    "# split data in locations table into lat, long and mag tables\n",
    "\n",
    "latitude = []\n",
    "longitude = []\n",
    "magnitude = []\n",
    "\n",
    "for i in locations:\n",
    "    lat = i[0] +' ' + i[1]\n",
    "    long = i[2] + ' ' + i [3]\n",
    "    mag = i[4]\n",
    "    latitude.append(lat)\n",
    "    longitude.append(long)\n",
    "    magnitude.append(mag)\n"
   ]
  },
  {
   "cell_type": "code",
   "execution_count": 20,
   "metadata": {},
   "outputs": [
    {
     "data": {
      "text/html": [
       "<div>\n",
       "<style scoped>\n",
       "    .dataframe tbody tr th:only-of-type {\n",
       "        vertical-align: middle;\n",
       "    }\n",
       "\n",
       "    .dataframe tbody tr th {\n",
       "        vertical-align: top;\n",
       "    }\n",
       "\n",
       "    .dataframe thead th {\n",
       "        text-align: right;\n",
       "    }\n",
       "</style>\n",
       "<table border=\"1\" class=\"dataframe\">\n",
       "  <thead>\n",
       "    <tr style=\"text-align: right;\">\n",
       "      <th></th>\n",
       "      <th>date</th>\n",
       "      <th>time</th>\n",
       "      <th>latitude</th>\n",
       "      <th>longitude</th>\n",
       "      <th>depths</th>\n",
       "      <th>magnitude</th>\n",
       "      <th>regions</th>\n",
       "    </tr>\n",
       "  </thead>\n",
       "  <tbody>\n",
       "    <tr>\n",
       "      <th>0</th>\n",
       "      <td>2023-02-24</td>\n",
       "      <td>14:56:15.6</td>\n",
       "      <td>37.90 N</td>\n",
       "      <td>34.05 E</td>\n",
       "      <td>5</td>\n",
       "      <td>2.5</td>\n",
       "      <td>CENTRAL TURKEY</td>\n",
       "    </tr>\n",
       "    <tr>\n",
       "      <th>1</th>\n",
       "      <td>2023-02-24</td>\n",
       "      <td>14:43:34.0</td>\n",
       "      <td>3.57 S</td>\n",
       "      <td>100.89 E</td>\n",
       "      <td>10</td>\n",
       "      <td>3.3</td>\n",
       "      <td>KEP. MENTAWAI REGION, INDONESIA</td>\n",
       "    </tr>\n",
       "    <tr>\n",
       "      <th>2</th>\n",
       "      <td>2023-02-24</td>\n",
       "      <td>14:30:18.0</td>\n",
       "      <td>32.11 S</td>\n",
       "      <td>71.81 W</td>\n",
       "      <td>37</td>\n",
       "      <td>3.8</td>\n",
       "      <td>OFFSHORE COQUIMBO, CHILE</td>\n",
       "    </tr>\n",
       "    <tr>\n",
       "      <th>3</th>\n",
       "      <td>2023-02-24</td>\n",
       "      <td>14:27:50.0</td>\n",
       "      <td>38.53 N</td>\n",
       "      <td>39.60 E</td>\n",
       "      <td>9</td>\n",
       "      <td>2.9</td>\n",
       "      <td>EASTERN TURKEY</td>\n",
       "    </tr>\n",
       "    <tr>\n",
       "      <th>4</th>\n",
       "      <td>2023-02-24</td>\n",
       "      <td>14:05:28.3</td>\n",
       "      <td>37.96 N</td>\n",
       "      <td>34.06 E</td>\n",
       "      <td>7</td>\n",
       "      <td>2.8</td>\n",
       "      <td>CENTRAL TURKEY</td>\n",
       "    </tr>\n",
       "  </tbody>\n",
       "</table>\n",
       "</div>"
      ],
      "text/plain": [
       "         date        time latitude longitude depths magnitude  \\\n",
       "0  2023-02-24  14:56:15.6  37.90 N   34.05 E      5       2.5   \n",
       "1  2023-02-24  14:43:34.0   3.57 S  100.89 E     10       3.3   \n",
       "2  2023-02-24  14:30:18.0  32.11 S   71.81 W     37       3.8   \n",
       "3  2023-02-24  14:27:50.0  38.53 N   39.60 E      9       2.9   \n",
       "4  2023-02-24  14:05:28.3  37.96 N   34.06 E      7       2.8   \n",
       "\n",
       "                           regions  \n",
       "0                   CENTRAL TURKEY  \n",
       "1  KEP. MENTAWAI REGION, INDONESIA  \n",
       "2         OFFSHORE COQUIMBO, CHILE  \n",
       "3                   EASTERN TURKEY  \n",
       "4                   CENTRAL TURKEY  "
      ]
     },
     "execution_count": 20,
     "metadata": {},
     "output_type": "execute_result"
    }
   ],
   "source": [
    "df = pd.DataFrame(zip(date, time, latitude, longitude, depths, magnitude, regions), \n",
    "                 columns = ['date', 'time','latitude', 'longitude', 'depths', 'magnitude', 'regions'])\n",
    "\n",
    "df.head()"
   ]
  },
  {
   "cell_type": "markdown",
   "metadata": {},
   "source": [
    "#### Count the number of tweets by a given Twitter account.\n",
    "Ask the user for the handle (@handle) of a twitter account. You will need to include a ***try/except block*** for account names not found. \n",
    "<br>***Hint:*** the program should count the number of tweets for any provided account."
   ]
  },
  {
   "cell_type": "code",
   "execution_count": 21,
   "metadata": {},
   "outputs": [],
   "source": [
    "# This is the url you will scrape in this exercise \n",
    "# You will need to add the account credentials to this url\n",
    "import tweepy\n",
    "token = \"1049857457583992833-RjF1TnLiWipBKTFONEUsQDkxqgFonn\"\n",
    "url = 'https://twitter.com/'"
   ]
  },
  {
   "cell_type": "code",
   "execution_count": 22,
   "metadata": {},
   "outputs": [],
   "source": [
    "# your code here\n",
    "res = requests.get(url)\n",
    "content = res.content\n",
    "\n",
    "soup = BeautifulSoup(content, 'lxml')"
   ]
  },
  {
   "cell_type": "markdown",
   "metadata": {},
   "source": [
    "#### Number of followers of a given twitter account\n",
    "Ask the user for the handle (@handle) of a twitter account. You will need to include a ***try/except block*** for account names not found. \n",
    "<br>***Hint:*** the program should count the followers for any provided account."
   ]
  },
  {
   "cell_type": "code",
   "execution_count": 23,
   "metadata": {},
   "outputs": [],
   "source": [
    "# This is the url you will scrape in this exercise \n",
    "# You will need to add the account credentials to this url\n",
    "url = 'https://twitter.com/'"
   ]
  },
  {
   "cell_type": "code",
   "execution_count": 24,
   "metadata": {},
   "outputs": [],
   "source": [
    "# your code here\n",
    "res = requests.get(url)\n",
    "content = res.content\n",
    "\n",
    "soup = BeautifulSoup(content, 'lxml')"
   ]
  },
  {
   "cell_type": "markdown",
   "metadata": {},
   "source": [
    "#### List all language names and number of related articles in the order they appear in wikipedia.org."
   ]
  },
  {
   "cell_type": "code",
   "execution_count": 25,
   "metadata": {},
   "outputs": [],
   "source": [
    "# This is the url you will scrape in this exercise\n",
    "url = 'https://www.wikipedia.org/'"
   ]
  },
  {
   "cell_type": "code",
   "execution_count": 26,
   "metadata": {},
   "outputs": [],
   "source": [
    "# your code here\n",
    "res = requests.get(url)\n",
    "content = res.content\n",
    "\n",
    "soup = BeautifulSoup(content, 'lxml')"
   ]
  },
  {
   "cell_type": "markdown",
   "metadata": {},
   "source": [
    "#### A list with the different kind of datasets available in data.gov.uk."
   ]
  },
  {
   "cell_type": "code",
   "execution_count": 27,
   "metadata": {},
   "outputs": [],
   "source": [
    "# This is the url you will scrape in this exercise\n",
    "url = 'https://data.gov.uk/'"
   ]
  },
  {
   "cell_type": "code",
   "execution_count": 28,
   "metadata": {},
   "outputs": [],
   "source": [
    "# your code here\n",
    "res = requests.get(url)\n",
    "content = res.content\n",
    "\n",
    "soup = BeautifulSoup(content, 'lxml')"
   ]
  },
  {
   "cell_type": "markdown",
   "metadata": {},
   "source": [
    "#### Display the top 10 languages by number of native speakers stored in a pandas dataframe."
   ]
  },
  {
   "cell_type": "code",
   "execution_count": 29,
   "metadata": {},
   "outputs": [],
   "source": [
    "# This is the url you will scrape in this exercise\n",
    "url = 'https://en.wikipedia.org/wiki/List_of_languages_by_number_of_native_speakers'"
   ]
  },
  {
   "cell_type": "code",
   "execution_count": 30,
   "metadata": {},
   "outputs": [],
   "source": [
    "# your code here\n",
    "res = requests.get(url)\n",
    "content = res.content\n",
    "\n",
    "soup = BeautifulSoup(content, 'lxml')"
   ]
  },
  {
   "cell_type": "markdown",
   "metadata": {},
   "source": [
    "## Bonus\n",
    "#### Scrape a certain number of tweets of a given Twitter account."
   ]
  },
  {
   "cell_type": "code",
   "execution_count": 31,
   "metadata": {},
   "outputs": [],
   "source": [
    "# This is the url you will scrape in this exercise \n",
    "# You will need to add the account credentials to this url\n",
    "url = 'https://twitter.com/'"
   ]
  },
  {
   "cell_type": "code",
   "execution_count": 32,
   "metadata": {},
   "outputs": [],
   "source": [
    "# your code here"
   ]
  },
  {
   "cell_type": "markdown",
   "metadata": {},
   "source": [
    "#### Display IMDB's top 250 data (movie name, initial release, director name and stars) as a pandas dataframe."
   ]
  },
  {
   "cell_type": "code",
   "execution_count": 33,
   "metadata": {},
   "outputs": [],
   "source": [
    "# This is the url you will scrape in this exercise \n",
    "url = 'https://www.imdb.com/chart/top'"
   ]
  },
  {
   "cell_type": "code",
   "execution_count": 34,
   "metadata": {},
   "outputs": [],
   "source": [
    "# your code here"
   ]
  },
  {
   "cell_type": "markdown",
   "metadata": {},
   "source": [
    "#### Display the movie name, year and a brief summary of the top 10 random movies (IMDB) as a pandas dataframe."
   ]
  },
  {
   "cell_type": "code",
   "execution_count": 35,
   "metadata": {},
   "outputs": [],
   "source": [
    "#This is the url you will scrape in this exercise\n",
    "url = 'http://www.imdb.com/chart/top'"
   ]
  },
  {
   "cell_type": "code",
   "execution_count": 36,
   "metadata": {},
   "outputs": [],
   "source": [
    "# your code here"
   ]
  },
  {
   "cell_type": "markdown",
   "metadata": {},
   "source": [
    "#### Find the live weather report (temperature, wind speed, description and weather) of a given city."
   ]
  },
  {
   "cell_type": "code",
   "execution_count": 37,
   "metadata": {},
   "outputs": [
    {
     "name": "stdout",
     "output_type": "stream",
     "text": [
      "Enter the city: chengdu\n"
     ]
    }
   ],
   "source": [
    "#https://openweathermap.org/current\n",
    "city = input('Enter the city: ')\n",
    "url = 'http://api.openweathermap.org/data/2.5/weather?'+'q='+city+'&APPID=b35975e18dc93725acb092f7272cc6b8&units=metric'"
   ]
  },
  {
   "cell_type": "code",
   "execution_count": 38,
   "metadata": {},
   "outputs": [
    {
     "name": "stderr",
     "output_type": "stream",
     "text": [
      "C:\\Users\\ykxio\\anaconda3\\lib\\site-packages\\bs4\\__init__.py:435: MarkupResemblesLocatorWarning: The input looks more like a filename than markup. You may want to open this file and pass the filehandle into Beautiful Soup.\n",
      "  warnings.warn(\n"
     ]
    },
    {
     "data": {
      "text/plain": [
       "'http://api.openweathermap.org/data/2.5/weather?q=chengdu&APPID=b35975e18dc93725acb092f7272cc6b8&units=metric'"
      ]
     },
     "execution_count": 38,
     "metadata": {},
     "output_type": "execute_result"
    }
   ],
   "source": [
    "# your code here\n",
    "res = requests.get(url)\n",
    "content = res.content\n",
    "\n",
    "soup = BeautifulSoup(content, 'lxml')\n",
    "url\n"
   ]
  },
  {
   "cell_type": "code",
   "execution_count": 39,
   "metadata": {},
   "outputs": [
    {
     "data": {
      "text/plain": [
       "b'{\"cod\":401, \"message\": \"Invalid API key. Please see https://openweathermap.org/faq#error401 for more info.\"}'"
      ]
     },
     "execution_count": 39,
     "metadata": {},
     "output_type": "execute_result"
    }
   ],
   "source": [
    "content"
   ]
  },
  {
   "cell_type": "markdown",
   "metadata": {},
   "source": [
    "#### Find the book name, price and stock availability as a pandas dataframe."
   ]
  },
  {
   "cell_type": "code",
   "execution_count": 40,
   "metadata": {},
   "outputs": [],
   "source": [
    "# This is the url you will scrape in this exercise. \n",
    "# It is a fictional bookstore created to be scraped. \n",
    "url = 'http://books.toscrape.com/'"
   ]
  },
  {
   "cell_type": "code",
   "execution_count": 41,
   "metadata": {},
   "outputs": [],
   "source": [
    "# your code here"
   ]
  }
 ],
 "metadata": {
  "kernelspec": {
   "display_name": "Python 3 (ipykernel)",
   "language": "python",
   "name": "python3"
  },
  "language_info": {
   "codemirror_mode": {
    "name": "ipython",
    "version": 3
   },
   "file_extension": ".py",
   "mimetype": "text/x-python",
   "name": "python",
   "nbconvert_exporter": "python",
   "pygments_lexer": "ipython3",
   "version": "3.9.13"
  }
 },
 "nbformat": 4,
 "nbformat_minor": 2
}
