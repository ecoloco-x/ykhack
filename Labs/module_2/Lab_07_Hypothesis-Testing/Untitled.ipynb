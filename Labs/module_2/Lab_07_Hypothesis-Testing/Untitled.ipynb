{
 "cells": [
  {
   "cell_type": "code",
   "execution_count": 14,
   "id": "8d5e1a42",
   "metadata": {},
   "outputs": [
    {
     "name": "stdout",
     "output_type": "stream",
     "text": [
      "t critical :  1.9842169515086827\n",
      "125.87027407864754 134.32972592135246\n",
      "4.761904761904759 1.9842169515086827\n"
     ]
    }
   ],
   "source": [
    "from scipy.stats import norm\n",
    "import scipy.stats as stats\n",
    "import numpy as np\n",
    "\n",
    "alpha = 0.05\n",
    "df = 99\n",
    "\n",
    "\n",
    "mean_p = 120\n",
    "mean_s = 130.1\n",
    "std_s = 21.21\n",
    "\n",
    "n = 100\n",
    "\n",
    "t_critical = stats.t.ppf(1 - alpha / 2 , df)\n",
    "print('t critical : ', t_critical)\n",
    "\n",
    "\n",
    "\n",
    "t_realised = (mean_s - mean_p) / (std_s / np.sqrt(n)) ### here it should be sqrt of n, not of df\n",
    "lower, upper = mean_s - t_critical * std_s / np.sqrt(df), mean_s + t_critical * std_s / np.sqrt(df)\n",
    "\n",
    "\n",
    "print(lower, upper)\n",
    "print(t_realised, t_critical)"
   ]
  },
  {
   "cell_type": "code",
   "execution_count": null,
   "id": "314558cb",
   "metadata": {},
   "outputs": [],
   "source": []
  },
  {
   "cell_type": "code",
   "execution_count": null,
   "id": "a0cd7279",
   "metadata": {},
   "outputs": [],
   "source": []
  }
 ],
 "metadata": {
  "kernelspec": {
   "display_name": "Python 3 (ipykernel)",
   "language": "python",
   "name": "python3"
  },
  "language_info": {
   "codemirror_mode": {
    "name": "ipython",
    "version": 3
   },
   "file_extension": ".py",
   "mimetype": "text/x-python",
   "name": "python",
   "nbconvert_exporter": "python",
   "pygments_lexer": "ipython3",
   "version": "3.9.13"
  }
 },
 "nbformat": 4,
 "nbformat_minor": 5
}
