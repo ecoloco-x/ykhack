{
 "cells": [
  {
   "cell_type": "code",
   "execution_count": 1,
   "id": "e493310d",
   "metadata": {},
   "outputs": [],
   "source": [
    "import config\n",
    "import spotipy\n",
    "import json\n",
    "from spotipy.oauth2 import SpotifyClientCredentials\n",
    "import pandas as pd\n",
    "\n",
    "#Initialize SpotiPy with user credentias\n",
    "sp = spotipy.Spotify(auth_manager=SpotifyClientCredentials(client_id= config.client_id,\n",
    "                                                           client_secret= config.client_secret))"
   ]
  },
  {
   "cell_type": "markdown",
   "id": "41ce6949",
   "metadata": {},
   "source": [
    "rock song \n",
    "\n",
    "- https://open.spotify.com/track/4pbJqGIASGPr0ZpGpnWkDn\n",
    "    \n",
    "another rock you shock me all night long\n",
    "- https://open.spotify.com/track/2SiXAy7TuUkycRVbbWDEpo\n",
    "    \n",
    "classical music mozart\n",
    "- https://open.spotify.com/track/1pLqj0KzGiy2FOTEjjWGK3?si=b29e49d7c7b745b0\n",
    "    \n",
    "another classical - yen tiersen\n",
    "- https://open.spotify.com/track/3YYKrn3iGOAel605Znt3ai?si=5623a0020c66458e"
   ]
  },
  {
   "cell_type": "code",
   "execution_count": 2,
   "id": "620b4195",
   "metadata": {},
   "outputs": [
    {
     "data": {
      "text/plain": [
       "{'danceability': 0.692,\n",
       " 'energy': 0.497,\n",
       " 'key': 2,\n",
       " 'loudness': -7.316,\n",
       " 'mode': 1,\n",
       " 'speechiness': 0.119,\n",
       " 'acousticness': 0.676,\n",
       " 'instrumentalness': 0,\n",
       " 'liveness': 0.259,\n",
       " 'valence': 0.475,\n",
       " 'tempo': 81.308,\n",
       " 'type': 'audio_features',\n",
       " 'id': '4pbJqGIASGPr0ZpGpnWkDn',\n",
       " 'uri': 'spotify:track:4pbJqGIASGPr0ZpGpnWkDn',\n",
       " 'track_href': 'https://api.spotify.com/v1/tracks/4pbJqGIASGPr0ZpGpnWkDn',\n",
       " 'analysis_url': 'https://api.spotify.com/v1/audio-analysis/4pbJqGIASGPr0ZpGpnWkDn',\n",
       " 'duration_ms': 122067,\n",
       " 'time_signature': 4}"
      ]
     },
     "execution_count": 2,
     "metadata": {},
     "output_type": "execute_result"
    }
   ],
   "source": [
    "rock_1=sp.audio_features(\"4pbJqGIASGPr0ZpGpnWkDn\")[0]\n",
    "rock_1"
   ]
  },
  {
   "cell_type": "code",
   "execution_count": 3,
   "id": "5568e5c5",
   "metadata": {},
   "outputs": [
    {
     "data": {
      "text/plain": [
       "{'danceability': 0.532,\n",
       " 'energy': 0.767,\n",
       " 'key': 7,\n",
       " 'loudness': -5.509,\n",
       " 'mode': 1,\n",
       " 'speechiness': 0.0574,\n",
       " 'acousticness': 0.00287,\n",
       " 'instrumentalness': 0.000513,\n",
       " 'liveness': 0.39,\n",
       " 'valence': 0.755,\n",
       " 'tempo': 127.361,\n",
       " 'type': 'audio_features',\n",
       " 'id': '2SiXAy7TuUkycRVbbWDEpo',\n",
       " 'uri': 'spotify:track:2SiXAy7TuUkycRVbbWDEpo',\n",
       " 'track_href': 'https://api.spotify.com/v1/tracks/2SiXAy7TuUkycRVbbWDEpo',\n",
       " 'analysis_url': 'https://api.spotify.com/v1/audio-analysis/2SiXAy7TuUkycRVbbWDEpo',\n",
       " 'duration_ms': 210173,\n",
       " 'time_signature': 4}"
      ]
     },
     "execution_count": 3,
     "metadata": {},
     "output_type": "execute_result"
    }
   ],
   "source": [
    "rock_2=sp.audio_features(\"2SiXAy7TuUkycRVbbWDEpo\")[0]\n",
    "rock_2"
   ]
  },
  {
   "cell_type": "code",
   "execution_count": 4,
   "id": "28ad409a",
   "metadata": {},
   "outputs": [
    {
     "data": {
      "text/plain": [
       "{'danceability': 0.499,\n",
       " 'energy': 0.185,\n",
       " 'key': 9,\n",
       " 'loudness': -19.161,\n",
       " 'mode': 1,\n",
       " 'speechiness': 0.0408,\n",
       " 'acousticness': 0.972,\n",
       " 'instrumentalness': 0.952,\n",
       " 'liveness': 0.112,\n",
       " 'valence': 0.481,\n",
       " 'tempo': 136.12,\n",
       " 'type': 'audio_features',\n",
       " 'id': '1pLqj0KzGiy2FOTEjjWGK3',\n",
       " 'uri': 'spotify:track:1pLqj0KzGiy2FOTEjjWGK3',\n",
       " 'track_href': 'https://api.spotify.com/v1/tracks/1pLqj0KzGiy2FOTEjjWGK3',\n",
       " 'analysis_url': 'https://api.spotify.com/v1/audio-analysis/1pLqj0KzGiy2FOTEjjWGK3',\n",
       " 'duration_ms': 205243,\n",
       " 'time_signature': 4}"
      ]
     },
     "execution_count": 4,
     "metadata": {},
     "output_type": "execute_result"
    }
   ],
   "source": [
    "classic_1=sp.audio_features(\"1pLqj0KzGiy2FOTEjjWGK3\")[0]\n",
    "classic_1"
   ]
  },
  {
   "cell_type": "code",
   "execution_count": 5,
   "id": "130adc7b",
   "metadata": {},
   "outputs": [
    {
     "data": {
      "text/plain": [
       "{'danceability': 0.484,\n",
       " 'energy': 0.192,\n",
       " 'key': 2,\n",
       " 'loudness': -15.378,\n",
       " 'mode': 1,\n",
       " 'speechiness': 0.0465,\n",
       " 'acousticness': 0.991,\n",
       " 'instrumentalness': 0.908,\n",
       " 'liveness': 0.106,\n",
       " 'valence': 0.0559,\n",
       " 'tempo': 100.084,\n",
       " 'type': 'audio_features',\n",
       " 'id': '3YYKrn3iGOAel605Znt3ai',\n",
       " 'uri': 'spotify:track:3YYKrn3iGOAel605Znt3ai',\n",
       " 'track_href': 'https://api.spotify.com/v1/tracks/3YYKrn3iGOAel605Znt3ai',\n",
       " 'analysis_url': 'https://api.spotify.com/v1/audio-analysis/3YYKrn3iGOAel605Znt3ai',\n",
       " 'duration_ms': 140733,\n",
       " 'time_signature': 4}"
      ]
     },
     "execution_count": 5,
     "metadata": {},
     "output_type": "execute_result"
    }
   ],
   "source": [
    "classic_2=sp.audio_features(\"3YYKrn3iGOAel605Znt3ai\")[0]\n",
    "classic_2"
   ]
  },
  {
   "cell_type": "code",
   "execution_count": 6,
   "id": "797a61fe",
   "metadata": {},
   "outputs": [
    {
     "data": {
      "text/html": [
       "<div>\n",
       "<style scoped>\n",
       "    .dataframe tbody tr th:only-of-type {\n",
       "        vertical-align: middle;\n",
       "    }\n",
       "\n",
       "    .dataframe tbody tr th {\n",
       "        vertical-align: top;\n",
       "    }\n",
       "\n",
       "    .dataframe thead th {\n",
       "        text-align: right;\n",
       "    }\n",
       "</style>\n",
       "<table border=\"1\" class=\"dataframe\">\n",
       "  <thead>\n",
       "    <tr style=\"text-align: right;\">\n",
       "      <th></th>\n",
       "      <th>danceability</th>\n",
       "      <th>energy</th>\n",
       "      <th>loudness</th>\n",
       "      <th>speechiness</th>\n",
       "      <th>acousticness</th>\n",
       "      <th>instrumentalness</th>\n",
       "      <th>liveness</th>\n",
       "      <th>valence</th>\n",
       "      <th>tempo</th>\n",
       "    </tr>\n",
       "  </thead>\n",
       "  <tbody>\n",
       "    <tr>\n",
       "      <th>Rock_1</th>\n",
       "      <td>0.692</td>\n",
       "      <td>0.497</td>\n",
       "      <td>-7.316</td>\n",
       "      <td>0.1190</td>\n",
       "      <td>0.67600</td>\n",
       "      <td>0.000000</td>\n",
       "      <td>0.259</td>\n",
       "      <td>0.4750</td>\n",
       "      <td>81.308</td>\n",
       "    </tr>\n",
       "    <tr>\n",
       "      <th>Rock_2</th>\n",
       "      <td>0.532</td>\n",
       "      <td>0.767</td>\n",
       "      <td>-5.509</td>\n",
       "      <td>0.0574</td>\n",
       "      <td>0.00287</td>\n",
       "      <td>0.000513</td>\n",
       "      <td>0.390</td>\n",
       "      <td>0.7550</td>\n",
       "      <td>127.361</td>\n",
       "    </tr>\n",
       "    <tr>\n",
       "      <th>Classic_1</th>\n",
       "      <td>0.499</td>\n",
       "      <td>0.185</td>\n",
       "      <td>-19.161</td>\n",
       "      <td>0.0408</td>\n",
       "      <td>0.97200</td>\n",
       "      <td>0.952000</td>\n",
       "      <td>0.112</td>\n",
       "      <td>0.4810</td>\n",
       "      <td>136.120</td>\n",
       "    </tr>\n",
       "    <tr>\n",
       "      <th>Classic_2</th>\n",
       "      <td>0.484</td>\n",
       "      <td>0.192</td>\n",
       "      <td>-15.378</td>\n",
       "      <td>0.0465</td>\n",
       "      <td>0.99100</td>\n",
       "      <td>0.908000</td>\n",
       "      <td>0.106</td>\n",
       "      <td>0.0559</td>\n",
       "      <td>100.084</td>\n",
       "    </tr>\n",
       "  </tbody>\n",
       "</table>\n",
       "</div>"
      ],
      "text/plain": [
       "           danceability  energy  loudness  speechiness  acousticness  \\\n",
       "Rock_1            0.692   0.497    -7.316       0.1190       0.67600   \n",
       "Rock_2            0.532   0.767    -5.509       0.0574       0.00287   \n",
       "Classic_1         0.499   0.185   -19.161       0.0408       0.97200   \n",
       "Classic_2         0.484   0.192   -15.378       0.0465       0.99100   \n",
       "\n",
       "           instrumentalness  liveness  valence    tempo  \n",
       "Rock_1             0.000000     0.259   0.4750   81.308  \n",
       "Rock_2             0.000513     0.390   0.7550  127.361  \n",
       "Classic_1          0.952000     0.112   0.4810  136.120  \n",
       "Classic_2          0.908000     0.106   0.0559  100.084  "
      ]
     },
     "execution_count": 6,
     "metadata": {},
     "output_type": "execute_result"
    }
   ],
   "source": [
    "audio_features=pd.DataFrame([rock_1,rock_2,classic_1,classic_2],index=[\"Rock_1\",\"Rock_2\",\"Classic_1\",\"Classic_2\"])[\n",
    "    ['danceability', 'energy', 'loudness', 'speechiness',\n",
    "       'acousticness', 'instrumentalness', 'liveness', 'valence', 'tempo']]\n",
    "audio_features"
   ]
  },
  {
   "cell_type": "code",
   "execution_count": 7,
   "id": "4f6cb71e",
   "metadata": {},
   "outputs": [
    {
     "data": {
      "text/html": [
       "<div>\n",
       "<style scoped>\n",
       "    .dataframe tbody tr th:only-of-type {\n",
       "        vertical-align: middle;\n",
       "    }\n",
       "\n",
       "    .dataframe tbody tr th {\n",
       "        vertical-align: top;\n",
       "    }\n",
       "\n",
       "    .dataframe thead th {\n",
       "        text-align: right;\n",
       "    }\n",
       "</style>\n",
       "<table border=\"1\" class=\"dataframe\">\n",
       "  <thead>\n",
       "    <tr style=\"text-align: right;\">\n",
       "      <th></th>\n",
       "      <th>energy</th>\n",
       "      <th>instrumentalness</th>\n",
       "      <th>liveness</th>\n",
       "    </tr>\n",
       "  </thead>\n",
       "  <tbody>\n",
       "    <tr>\n",
       "      <th>Rock_1</th>\n",
       "      <td>0.497</td>\n",
       "      <td>0.000000</td>\n",
       "      <td>0.259</td>\n",
       "    </tr>\n",
       "    <tr>\n",
       "      <th>Rock_2</th>\n",
       "      <td>0.767</td>\n",
       "      <td>0.000513</td>\n",
       "      <td>0.390</td>\n",
       "    </tr>\n",
       "    <tr>\n",
       "      <th>Classic_1</th>\n",
       "      <td>0.185</td>\n",
       "      <td>0.952000</td>\n",
       "      <td>0.112</td>\n",
       "    </tr>\n",
       "    <tr>\n",
       "      <th>Classic_2</th>\n",
       "      <td>0.192</td>\n",
       "      <td>0.908000</td>\n",
       "      <td>0.106</td>\n",
       "    </tr>\n",
       "  </tbody>\n",
       "</table>\n",
       "</div>"
      ],
      "text/plain": [
       "           energy  instrumentalness  liveness\n",
       "Rock_1      0.497          0.000000     0.259\n",
       "Rock_2      0.767          0.000513     0.390\n",
       "Classic_1   0.185          0.952000     0.112\n",
       "Classic_2   0.192          0.908000     0.106"
      ]
     },
     "execution_count": 7,
     "metadata": {},
     "output_type": "execute_result"
    }
   ],
   "source": [
    "audio_features=audio_features[['energy','instrumentalness','liveness']]\n",
    "audio_features"
   ]
  },
  {
   "cell_type": "code",
   "execution_count": 8,
   "id": "c0e5e1a7",
   "metadata": {},
   "outputs": [],
   "source": [
    "from sklearn.preprocessing import StandardScaler\n",
    "from sklearn.cluster import KMeans\n",
    "from matplotlib import pyplot\n",
    "import numpy as np"
   ]
  },
  {
   "cell_type": "code",
   "execution_count": 9,
   "id": "22dc3b90",
   "metadata": {},
   "outputs": [
    {
     "data": {
      "text/plain": [
       "array([[ 0.35930741, -0.99999194,  0.36018235],\n",
       "       [ 1.47761288, -0.99888903,  1.47696076],\n",
       "       [-0.9329567 ,  1.04673888, -0.89299648],\n",
       "       [-0.90396359,  0.95214208, -0.94414663]])"
      ]
     },
     "execution_count": 9,
     "metadata": {},
     "output_type": "execute_result"
    }
   ],
   "source": [
    "scaler = StandardScaler()\n",
    "scaler.fit(audio_features)\n",
    "audio_features_scaled = scaler.transform(audio_features)\n",
    "audio_features_scaled"
   ]
  },
  {
   "cell_type": "code",
   "execution_count": 10,
   "id": "41ac149a",
   "metadata": {},
   "outputs": [
    {
     "data": {
      "image/png": "[encoded data removed]",
      "text/plain": [
       "<Figure size 640x480 with 1 Axes>"
      ]
     },
     "metadata": {},
     "output_type": "display_data"
    }
   ],
   "source": [
    "kmeans = KMeans(n_clusters=2, random_state=1234)\n",
    "kmeans.fit(audio_features_scaled)\n",
    "# assign a cluster to each example\n",
    "labels = kmeans.predict(audio_features_scaled)\n",
    "# retrieve unique clusters\n",
    "clusters = np.unique(labels)\n",
    "# create scatter plot for samples from each cluster\n",
    "for cluster in clusters:\n",
    "    # get row indexes for samples with this cluster\n",
    "    row_ix = np.where(labels == cluster)\n",
    "    # create scatter of these samples\n",
    "    pyplot.scatter(audio_features.to_numpy()[row_ix, 0], audio_features.to_numpy()[row_ix,1])\n",
    "    pyplot.xlabel(\"energy\")\n",
    "    pyplot.ylabel(\"instrumentalness\")\n",
    "    # show the plot\n",
    "pyplot.show()"
   ]
  },
  {
   "cell_type": "code",
   "execution_count": null,
   "id": "6c942eba",
   "metadata": {},
   "outputs": [],
   "source": []
  }
 ],
 "metadata": {
  "kernelspec": {
   "display_name": "Python 3 (ipykernel)",
   "language": "python",
   "name": "python3"
  },
  "language_info": {
   "codemirror_mode": {
    "name": "ipython",
    "version": 3
   },
   "file_extension": ".py",
   "mimetype": "text/x-python",
   "name": "python",
   "nbconvert_exporter": "python",
   "pygments_lexer": "ipython3",
   "version": "3.9.16"
  },
  "toc": {
   "base_numbering": 1,
   "nav_menu": {},
   "number_sections": true,
   "sideBar": true,
   "skip_h1_title": false,
   "title_cell": "Table of Contents",
   "title_sidebar": "Contents",
   "toc_cell": false,
   "toc_position": {},
   "toc_section_display": true,
   "toc_window_display": false
  }
 },
 "nbformat": 4,
 "nbformat_minor": 5
}
