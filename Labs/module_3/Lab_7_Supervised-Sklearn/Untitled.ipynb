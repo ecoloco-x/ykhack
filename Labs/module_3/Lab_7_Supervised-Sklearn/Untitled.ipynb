{
 "cells": [
  {
   "cell_type": "code",
   "execution_count": 1,
   "id": "bf0c5fff",
   "metadata": {},
   "outputs": [],
   "source": [
    "import pandas as pd\n",
    "import numpy as np"
   ]
  },
  {
   "cell_type": "code",
   "execution_count": 7,
   "id": "48e66582",
   "metadata": {},
   "outputs": [
    {
     "data": {
      "text/plain": [
       "array([ 7,  8, 13, -4, -2, 10,  2, 11,  5, -5])"
      ]
     },
     "execution_count": 7,
     "metadata": {},
     "output_type": "execute_result"
    }
   ],
   "source": [
    "arr = np.array([7,8,13,-4,-2,10,2,11,5,-5])\n",
    "arr"
   ]
  },
  {
   "cell_type": "code",
   "execution_count": 8,
   "id": "32cc070c",
   "metadata": {},
   "outputs": [
    {
     "data": {
      "text/plain": [
       "[7, 8, 13, 4, 2, 10, 2, 11, 5, 5]"
      ]
     },
     "execution_count": 8,
     "metadata": {},
     "output_type": "execute_result"
    }
   ],
   "source": [
    "diff = [abs(i) for i in arr]\n",
    "diff"
   ]
  },
  {
   "cell_type": "code",
   "execution_count": 13,
   "id": "94b82b02",
   "metadata": {},
   "outputs": [
    {
     "data": {
      "text/plain": [
       "2"
      ]
     },
     "execution_count": 13,
     "metadata": {},
     "output_type": "execute_result"
    }
   ],
   "source": [
    "min(diff)"
   ]
  },
  {
   "cell_type": "code",
   "execution_count": 18,
   "id": "df755b9d",
   "metadata": {},
   "outputs": [],
   "source": [
    "re = [i for i in arr if abs(i) == min(diff)]"
   ]
  },
  {
   "cell_type": "code",
   "execution_count": 19,
   "id": "a09e2ef3",
   "metadata": {},
   "outputs": [
    {
     "data": {
      "text/plain": [
       "[-2, 2]"
      ]
     },
     "execution_count": 19,
     "metadata": {},
     "output_type": "execute_result"
    }
   ],
   "source": [
    "re"
   ]
  },
  {
   "cell_type": "code",
   "execution_count": 20,
   "id": "d96dd9ff",
   "metadata": {},
   "outputs": [],
   "source": [
    "positive = [i for i in re if i >0]"
   ]
  },
  {
   "cell_type": "code",
   "execution_count": 21,
   "id": "26692e8d",
   "metadata": {},
   "outputs": [
    {
     "name": "stdout",
     "output_type": "stream",
     "text": [
      "[2]\n"
     ]
    }
   ],
   "source": [
    "if positive:\n",
    "    print(positive)"
   ]
  },
  {
   "cell_type": "code",
   "execution_count": 30,
   "id": "9030fb5a",
   "metadata": {},
   "outputs": [],
   "source": [
    "numbers = [1,5,8,1,2]"
   ]
  },
  {
   "cell_type": "code",
   "execution_count": 31,
   "id": "4049b1cb",
   "metadata": {},
   "outputs": [],
   "source": [
    "k =13"
   ]
  },
  {
   "cell_type": "code",
   "execution_count": 36,
   "id": "4fa19ce8",
   "metadata": {},
   "outputs": [
    {
     "name": "stdout",
     "output_type": "stream",
     "text": [
      "0 1\n",
      "1 5\n",
      "haha 2 1\n",
      "2 8\n",
      "haha 1 2\n",
      "3 1\n",
      "4 2\n"
     ]
    }
   ],
   "source": [
    "for i , num in enumerate(numbers):\n",
    "    print(i,num)\n",
    "    target = k - num\n",
    "    if target in numbers:\n",
    "        print('haha',numbers.index(target),i)\n"
   ]
  },
  {
   "cell_type": "code",
   "execution_count": null,
   "id": "3e532aa3",
   "metadata": {},
   "outputs": [],
   "source": []
  }
 ],
 "metadata": {
  "kernelspec": {
   "display_name": "Python 3 (ipykernel)",
   "language": "python",
   "name": "python3"
  },
  "language_info": {
   "codemirror_mode": {
    "name": "ipython",
    "version": 3
   },
   "file_extension": ".py",
   "mimetype": "text/x-python",
   "name": "python",
   "nbconvert_exporter": "python",
   "pygments_lexer": "ipython3",
   "version": "3.9.13"
  }
 },
 "nbformat": 4,
 "nbformat_minor": 5
}
