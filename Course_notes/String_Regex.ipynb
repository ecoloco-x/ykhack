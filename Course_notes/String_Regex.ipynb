{
 "cells": [
  {
   "cell_type": "code",
   "execution_count": null,
   "id": "a2b809ce",
   "metadata": {},
   "outputs": [],
   "source": []
  },
  {
   "cell_type": "code",
   "execution_count": 22,
   "id": "5feaddbc",
   "metadata": {},
   "outputs": [],
   "source": [
    "emails = [\"adam.smith@gmail.com\", \"alan.turing@yahoo.fr\", \"mary98@hotmail.fr\", \"ketty_jonhson@gmail.com\"]"
   ]
  },
  {
   "cell_type": "code",
   "execution_count": 29,
   "id": "cb0695bc",
   "metadata": {},
   "outputs": [
    {
     "data": {
      "text/plain": [
       "[('gmail.com', 2)]"
      ]
     },
     "execution_count": 29,
     "metadata": {},
     "output_type": "execute_result"
    }
   ],
   "source": [
    "lst = []\n",
    "for n in names:\n",
    "    x = n.split(sep = \"@\")\n",
    "    domain = x[-1]\n",
    "    lst.append(domain)\n",
    "from collections import Counter\n",
    "c = Counter(lst).most_common(1)\n",
    "\n",
    "c"
   ]
  },
  {
   "cell_type": "code",
   "execution_count": 43,
   "id": "1c1c6e17",
   "metadata": {},
   "outputs": [],
   "source": [
    "test = \"Python, Java, C++, HTML\""
   ]
  },
  {
   "cell_type": "code",
   "execution_count": 44,
   "id": "d90845cc",
   "metadata": {},
   "outputs": [],
   "source": [
    "test = test.replace('HTML','R')"
   ]
  },
  {
   "cell_type": "markdown",
   "id": "55881e4a",
   "metadata": {},
   "source": [
    "#### look for letters, numbers in certain text"
   ]
  },
  {
   "cell_type": "code",
   "execution_count": 45,
   "id": "7719d27c",
   "metadata": {},
   "outputs": [],
   "source": [
    "text = 'My neighbor, Mr. Rogers, has 5 dogs.'"
   ]
  },
  {
   "cell_type": "code",
   "execution_count": 54,
   "id": "8b0911b0",
   "metadata": {},
   "outputs": [
    {
     "data": {
      "text/plain": [
       "['y',\n",
       " 'n',\n",
       " 'e',\n",
       " 'i',\n",
       " 'g',\n",
       " 'h',\n",
       " 'b',\n",
       " 'o',\n",
       " 'r',\n",
       " 'r',\n",
       " 'o',\n",
       " 'g',\n",
       " 'e',\n",
       " 'r',\n",
       " 's',\n",
       " 'h',\n",
       " 'a',\n",
       " 's',\n",
       " 'd',\n",
       " 'o',\n",
       " 'g',\n",
       " 's']"
      ]
     },
     "execution_count": 54,
     "metadata": {},
     "output_type": "execute_result"
    }
   ],
   "source": [
    "import re\n",
    "re.findall('[a-z]',text)"
   ]
  },
  {
   "cell_type": "code",
   "execution_count": 60,
   "id": "780d890b",
   "metadata": {},
   "outputs": [
    {
     "data": {
      "text/plain": [
       "['5']"
      ]
     },
     "execution_count": 60,
     "metadata": {},
     "output_type": "execute_result"
    }
   ],
   "source": [
    "re.findall('[0-9]',text)"
   ]
  },
  {
   "cell_type": "code",
   "execution_count": 61,
   "id": "eb9faee7",
   "metadata": {},
   "outputs": [
    {
     "data": {
      "text/plain": [
       "['5']"
      ]
     },
     "execution_count": 61,
     "metadata": {},
     "output_type": "execute_result"
    }
   ],
   "source": [
    "re.findall('\\d',text)"
   ]
  },
  {
   "cell_type": "markdown",
   "id": "03b83d69",
   "metadata": {},
   "source": [
    "#### to have several conditions in searhing"
   ]
  },
  {
   "cell_type": "code",
   "execution_count": 55,
   "id": "8d99e59e",
   "metadata": {},
   "outputs": [
    {
     "data": {
      "text/plain": [
       "['M',\n",
       " 'y',\n",
       " 'n',\n",
       " 'e',\n",
       " 'i',\n",
       " 'g',\n",
       " 'h',\n",
       " 'b',\n",
       " 'o',\n",
       " 'r',\n",
       " 'M',\n",
       " 'r',\n",
       " 'R',\n",
       " 'o',\n",
       " 'g',\n",
       " 'e',\n",
       " 'r',\n",
       " 's',\n",
       " 'h',\n",
       " 'a',\n",
       " 's',\n",
       " 'd',\n",
       " 'o',\n",
       " 'g',\n",
       " 's']"
      ]
     },
     "execution_count": 55,
     "metadata": {},
     "output_type": "execute_result"
    }
   ],
   "source": [
    "re.findall('[a-z]|[A-Z]',text)"
   ]
  },
  {
   "cell_type": "code",
   "execution_count": 62,
   "id": "17afdeb9",
   "metadata": {},
   "outputs": [],
   "source": [
    "test = 'Quantifiers are greedy - accept the most possible number of symbols. Question mark make them lazy and take the least possible number of letters.'"
   ]
  },
  {
   "cell_type": "code",
   "execution_count": 67,
   "id": "a14afbff",
   "metadata": {},
   "outputs": [
    {
     "data": {
      "text/plain": [
       "['Quantifiers are greedy -']"
      ]
     },
     "execution_count": 67,
     "metadata": {},
     "output_type": "execute_result"
    }
   ],
   "source": [
    "re.findall('.*?-', test)"
   ]
  },
  {
   "cell_type": "code",
   "execution_count": 101,
   "id": "4981968f",
   "metadata": {},
   "outputs": [],
   "source": [
    "letter = \"\"\"\n",
    "Dear sender,\n",
    "\n",
    "\n",
    "Thank you for your email. I am on maternity leave until January 3, 2022. \n",
    "\n",
    "\n",
    "For urgent matters, please contact finance@adyen.com\n",
    "\n",
    "\n",
    "Thank you for your message. Lauren Hackett has left The Economist\n",
    "Group. In her absence please direct your message to one of  the\n",
    "following:\n",
    "\n",
    "\n",
    "- The Economist Editorial: Holly Donahue in the UK and ROW\n",
    "<hollydonahue@economist.com> or Tom Amos in the US\n",
    "<tomamos@economist.com>\n",
    "- The Economist business, EIU, Events and Client Solutions: Jessica\n",
    "Keating <jessicakeating@economist.com>\n",
    "- Digital Communications: Paddy Crowley <paddycrowley@economist.com>\n",
    "- Internal Communications: Stephanie Sampiere <stephaniesampiere@economist.com>\n",
    "\n",
    "\n",
    "If you are looking to get in contact with Lauren she can be reached at\n",
    "Lauren@LaurenHackett.com.\n",
    "\"\"\""
   ]
  },
  {
   "cell_type": "code",
   "execution_count": 102,
   "id": "2f17d18a",
   "metadata": {},
   "outputs": [
    {
     "name": "stdout",
     "output_type": "stream",
     "text": [
      "['finance@adyen.com', 'hollydonahue@economist.com', 'tomamos@economist.com', 'jessicakeating@economist.com', 'paddycrowley@economist.com', 'stephaniesampiere@economist.com', 'Lauren@LaurenHackett.com']\n"
     ]
    }
   ],
   "source": [
    "mails = re.findall('\\w*?@\\w*.\\w*',letter)\n",
    "print(mails)"
   ]
  },
  {
   "cell_type": "code",
   "execution_count": null,
   "id": "000075c6",
   "metadata": {},
   "outputs": [],
   "source": []
  }
 ],
 "metadata": {
  "kernelspec": {
   "display_name": "Python 3 (ipykernel)",
   "language": "python",
   "name": "python3"
  },
  "language_info": {
   "codemirror_mode": {
    "name": "ipython",
    "version": 3
   },
   "file_extension": ".py",
   "mimetype": "text/x-python",
   "name": "python",
   "nbconvert_exporter": "python",
   "pygments_lexer": "ipython3",
   "version": "3.9.13"
  }
 },
 "nbformat": 4,
 "nbformat_minor": 5
}
