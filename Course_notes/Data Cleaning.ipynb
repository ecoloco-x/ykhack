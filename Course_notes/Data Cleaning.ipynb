{
 "cells": [
  {
   "cell_type": "markdown",
   "id": "795c6a47",
   "metadata": {},
   "source": [
    "## Lesson Goals\n",
    "- Examine data for potential issues.\n",
    "- Identify and fill in missing values.\n",
    "- Identify and correct incorrect values.\n",
    "- Remove low variance columns.\n",
    "- Identify potential outliers.\n",
    "- Correct incorrect data types.\n",
    "- Remove special characters and clean categorical variables.\n",
    "- Identify and remove duplicate records.\n"
   ]
  },
  {
   "cell_type": "markdown",
   "id": "bfa23442",
   "metadata": {},
   "source": [
    "When working with data sets, you will find that they often require a bit of cleaning. Whether Pandas originally read the data types incorrectly, records are duplicated, the data contains special characters or missing value, or there are slightly different references to the same entity, every data analyst must know how to clean the data they are working with before analyzing it. In this lesson, you will learn about some of the most common problems that make data messy and methods for correcting those problems and cleaning your data.\n",
    "\n",
    "The data set we are going to be using for this lesson is a messy version of the vehicles data set we worked with in the previous lesson. Let's import this version of our data set so that we can then practice cleaning it up."
   ]
  },
  {
   "cell_type": "code",
   "execution_count": null,
   "id": "579bee01",
   "metadata": {},
   "outputs": [],
   "source": [
    "import pandas as pd\n",
    "import numpy as np\n",
    "data = pd.read_csv('data/vehicles_messy.csv')"
   ]
  },
  {
   "cell_type": "markdown",
   "id": "e5d83122",
   "metadata": {},
   "source": [
    "## Examining Data for Potential Issues"
   ]
  },
  {
   "cell_type": "markdown",
   "id": "da368645",
   "metadata": {},
   "source": [
    "One of the first things we want to do is examine the data and look for any potential issues. Some of the things we are interested in identifying in the data at this stage include:\n",
    "\n",
    "- Missing values\n",
    "- Special characters\n",
    "- Incorrect values\n",
    "- Extreme values or outliers\n",
    "- Duplicate records\n",
    "- Incorrect data types\n",
    "\n",
    "The presence of these may cause problems when it's time to analyze the data, so we want to make sure we address them beforehand. We can start by visually inspecting the data using the head method, which will show us the first 5 rows of data."
   ]
  },
  {
   "cell_type": "code",
   "execution_count": null,
   "id": "49c1840d",
   "metadata": {},
   "outputs": [],
   "source": [
    "data.head()\n"
   ]
  },
  {
   "cell_type": "markdown",
   "id": "6b360624",
   "metadata": {},
   "source": [
    "## Missing Values"
   ]
  },
  {
   "cell_type": "markdown",
   "id": "6984f0cd",
   "metadata": {},
   "source": [
    "From this initial view, we can see that our data set contains some columns that have missing values in them and others that seem to have a lot of zero values. Let's see how prevalent missing values are in our data. We can use the Pandas isnull method to check whether the value in each field is missing (null) and return either True or False for each field. We can use the sum method to total up the number of True values by column, and then we can add a condition using square brackets that will filter the data and show us only columns where the number of null values were greater than zero."
   ]
  },
  {
   "cell_type": "code",
   "execution_count": null,
   "id": "5f68a068",
   "metadata": {},
   "outputs": [],
   "source": [
    "null_cols = data.isnull().sum()\n",
    "null_cols[null_cols > 0]\n"
   ]
  },
  {
   "cell_type": "markdown",
   "id": "8e5a1b71",
   "metadata": {},
   "source": [
    "We can see that some columns have relatively few null values while others have tens of thousands of nulls. For fields that have a lot of null values, you will often have to make a judgement call. If you don't think the information is going to be very useful to your analysis, then you would remove those columns from your data frame. In Pandas, we can do that using the drop method. For our purposes, let's remove the columns that have more than 10,000 null values in them. We will add these column names to a list, and then we will pass those columns to the drop method and indicate that we want columns (not rows) dropped by setting the axis parameter to 1."
   ]
  },
  {
   "cell_type": "code",
   "execution_count": null,
   "id": "621a711f",
   "metadata": {},
   "outputs": [],
   "source": [
    "drop_cols = list(null_cols[null_cols > 10000].index)\n",
    "data = data.drop(drop_cols, axis=1)"
   ]
  },
  {
   "cell_type": "markdown",
   "id": "4851276a",
   "metadata": {},
   "source": [
    "This leaves us with just a handful of remaining columns that have null values. Of the columns that remain, it looks like the cylinders column and the displ column have a similar number of nulls. Perhaps they are missing for similar reasons. We can investigate this by subsetting the data set and looking at just the records where displ is null and just the columns we think will be informative in allowing us to determine a reason."
   ]
  },
  {
   "cell_type": "code",
   "execution_count": null,
   "id": "2751df87",
   "metadata": {},
   "outputs": [],
   "source": [
    "null_displ = data[(data['displ'].isnull()==True)]\n",
    "null_displ = null_displ[['year', 'make', 'model', 'trany', 'drive','fuelType','cylinders', 'displ']]\n",
    "null_displ\n"
   ]
  },
  {
   "cell_type": "markdown",
   "id": "3e3c9498",
   "metadata": {},
   "source": [
    "We can see that most of the time, cylinders is null when displ is null and that the most of the records where both fields are null have a fuel type of Electricity. This makes sense, as electric cars do not have cylinders and can therefore not have any displacement. In this case, it would make sense to replace these null values with zeros. Pandas makes it easy to do that with the fillna method."
   ]
  },
  {
   "cell_type": "code",
   "execution_count": null,
   "id": "a61003c8",
   "metadata": {},
   "outputs": [],
   "source": [
    "data[['displ', 'cylinders']] = data[['displ', 'cylinders']].fillna(0)"
   ]
  },
  {
   "cell_type": "markdown",
   "id": "51c5ae2c",
   "metadata": {},
   "source": [
    "In this example, we filled the nulls in with zeros, but there are other strategies for filling in nulls. Depending on the circumstances, you might want to replace nulls with the column mean or mode values. Once you get more advanced, you can even use a variety of predictive imputation methods."
   ]
  },
  {
   "cell_type": "markdown",
   "id": "7d0fb906",
   "metadata": {},
   "source": [
    "## Incorrect Values\n",
    "In addition to null values, we also want to try to identify any values that seem incorrect. For example, in the previous section, we learned that a vehicle without cylinders should not have displacement and vice versa. Let's check to see if there are any cases that violate these rules."
   ]
  },
  {
   "cell_type": "code",
   "execution_count": null,
   "id": "43462f43",
   "metadata": {},
   "outputs": [],
   "source": [
    "test = data[(data['cylinders']==0) & (data['displ']!=0)]\n",
    "test[['year', 'make', 'model', 'trany', 'drive','fuelType','cylinders', 'displ']]"
   ]
  },
  {
   "cell_type": "markdown",
   "id": "f431c30d",
   "metadata": {},
   "source": [
    "Here we have identified a vehicle with a regular gasoline engine that reportedly does not have any cylinders but does have a value for displacement. The way we would correct this would be to either perform some domain research or ask a domain expert to find out how many actual cylinders this vehicle had. Alternatively, you can also try to look at similar vehicles in the data set and determine the most likely value for this field.\n",
    "\n",
    "Suppose that using one of the aforementioned methods, we found out that this vehicle actually has a 4 cylinder engine. Once we have this information, we can use the loc method to update that specific value in the data frame."
   ]
  },
  {
   "cell_type": "code",
   "execution_count": null,
   "id": "5eed0bee",
   "metadata": {},
   "outputs": [],
   "source": [
    "data.loc[(data['cylinders']==0) & (data['displ']!=0), 'cylinders'] = 4"
   ]
  },
  {
   "cell_type": "markdown",
   "id": "5150d5a4",
   "metadata": {},
   "source": [
    "## Low Variance Columns"
   ]
  },
  {
   "cell_type": "markdown",
   "id": "e1ab3253",
   "metadata": {},
   "source": [
    "When analyzing data, we want the fields we are working with to be informative, and we will want to strip away any columns that don't have a lot of value to us. One easy way to do this is to identify columns that have low variance, where the majority of the values in the column are the same. Since there is not a lot of variability in these columns, they have the potential to not be as informative as columns that have a variety of different values in them.\n",
    "\n",
    "Let's try to identify columns where at least 90% of the values are the same so that we can remove them from our data set. To do this, we are going to create an empty list called low_variance that will eventually contain the names of columns that fit our criteria. We will then write a for loop that will take the minimum and the 90th percentile value for all the numeric columns in our data set (identified via the _get_numeric_data method). If the 90th percentile and the minimum are equal to each other, that means that at least 90% of the values in that column are the same and we will append that column name to our low_variance list."
   ]
  },
  {
   "cell_type": "code",
   "execution_count": null,
   "id": "8666e856",
   "metadata": {},
   "outputs": [],
   "source": [
    "low_variance = []\n",
    "\n",
    "for col in data._get_numeric_data():\n",
    "    minimum = min(data[col])\n",
    "    ninety_perc = np.percentile(data[col], 90)\n",
    "    if ninety_perc == minimum:\n",
    "        low_variance.append(col)\n",
    "\n",
    "print(low_variance)"
   ]
  },
  {
   "cell_type": "markdown",
   "id": "c95647f0",
   "metadata": {},
   "source": [
    "This returned 34 columns that we could potentially eliminate due to not having high enough variability to be informative. Of course, before we do this, we should check the values that do exist in these fields to confirm that they are not very informative. Once they have been checked, we can use the the drop method like we did earlier in this lesson to remove those columns from our data frame."
   ]
  },
  {
   "cell_type": "code",
   "execution_count": null,
   "id": "f4a58b1e",
   "metadata": {},
   "outputs": [],
   "source": [
    "data = data.drop(low_variance, axis=1)"
   ]
  },
  {
   "cell_type": "markdown",
   "id": "dc2e9b86",
   "metadata": {},
   "source": [
    "## Extreme Values and Outliers"
   ]
  },
  {
   "cell_type": "markdown",
   "id": "85e6e5af",
   "metadata": {},
   "source": [
    "Now that we have removed low variance columns, we should look for outliers, or extreme values, in the columns that remain. These outliers can influence our aggregations when we are analyzing data later, so we want to make sure we address them during our data cleaning stage.\n",
    "\n",
    "A common method for identifying outliers is one that leverages the interquartile range (IQR). Once the IQR is calculated, it is multiplied by a constant (typically 1.5) and lower and upper bounds are established at:\n",
    "\n",
    "- 25th Percentile - (IQR x 1.5)\n",
    "- 75th Percentile + (IQR x 1.5)\n",
    "\n",
    "Any values outside this range are potential outliers and should be investigated.\n",
    "\n",
    "Let's look at how we would do this for our data set using Python. We will use the Pandas describe function to easily calculate the 25th and 75th percentiles for every column and transpose the results so that we can easily reference the values in calculating the interquartile ranges."
   ]
  },
  {
   "cell_type": "code",
   "execution_count": null,
   "id": "fe56384f",
   "metadata": {},
   "outputs": [],
   "source": [
    "stats = data.describe().transpose()\n",
    "stats['IQR'] = stats['75%'] - stats['25%']\n",
    "stats"
   ]
  },
  {
   "cell_type": "markdown",
   "id": "41079cd8",
   "metadata": {},
   "source": [
    "We will then create an empty data frame called outliers with the same columns as our data set. Finally, we will loop through each column in the data calculating the lower and upper bounds, retrieving records where the value for that column falls outside the bounds we established, and appending those results to our outlier data frame."
   ]
  },
  {
   "cell_type": "code",
   "execution_count": null,
   "id": "52f17767",
   "metadata": {},
   "outputs": [],
   "source": [
    "outliers = pd.DataFrame(columns=data.columns)\n",
    "\n",
    "for col in stats.index:\n",
    "    iqr = stats.at[col,'IQR']\n",
    "    cutoff = iqr * 1.5\n",
    "    lower = stats.at[col,'25%'] - cutoff\n",
    "    upper = stats.at[col,'75%'] + cutoff\n",
    "    results = data[(data[col] < lower) | \n",
    "                   (data[col] > upper)].copy()\n",
    "    results['Outlier'] = col\n",
    "    outliers = outliers.append(results)\n"
   ]
  },
  {
   "cell_type": "markdown",
   "id": "84ad44fa",
   "metadata": {},
   "source": [
    "Our outliers data frame should now be populated with records that you can investigate further and determine whether they should be kept in the data or dropped. The Outlier column we added before appending the results for the column to the outliers data frame will let you know what column in each record contained the outlier. If you find that this method is returning too many results, you can be more stringent with your cutoff criteria (e.g. increasing the constant by which you multiply the IQR to 3 instead of 1.5).\n",
    "\n"
   ]
  },
  {
   "cell_type": "code",
   "execution_count": null,
   "id": "7de0eb90",
   "metadata": {},
   "outputs": [],
   "source": [
    "outliers"
   ]
  },
  {
   "cell_type": "markdown",
   "id": "f0d74bcc",
   "metadata": {},
   "source": [
    "## Data Type Correction\n"
   ]
  },
  {
   "cell_type": "markdown",
   "id": "7bf7797d",
   "metadata": {},
   "source": [
    "One common problem that is often overlooked is incorrect data types. This typically occurs when there is a numeric variable that should actually be represented as a categorical variable. The way to check the data type of each column in Pandas is by using the dtypes method."
   ]
  },
  {
   "cell_type": "code",
   "execution_count": null,
   "id": "9700346d",
   "metadata": {},
   "outputs": [],
   "source": [
    "data.dtypes"
   ]
  },
  {
   "cell_type": "markdown",
   "id": "441d2dc2",
   "metadata": {},
   "source": [
    "Pandas currently has the year column stored as integers, but what if we wanted the year to be stored as a categorical variable (object) instead? We could easily change that data type using the astype method and then check that it changed using the dtypes method again just on that field."
   ]
  },
  {
   "cell_type": "code",
   "execution_count": null,
   "id": "b54e8b11",
   "metadata": {},
   "outputs": [],
   "source": [
    "data['year'] = data['year'].astype('object')\n",
    "data['year'].dtype"
   ]
  },
  {
   "cell_type": "markdown",
   "id": "7c59c14d",
   "metadata": {},
   "source": [
    "You can apply this technique to any column whose data type you would like to change.\n",
    "\n"
   ]
  },
  {
   "cell_type": "markdown",
   "id": "be369fb7",
   "metadata": {},
   "source": [
    "## Cleaning Text and Removing Special Characters\n"
   ]
  },
  {
   "cell_type": "markdown",
   "id": "bca699bc",
   "metadata": {},
   "source": [
    "The presence of special characters in our fields has the potential to make analyzing our data challenging. Imagine not being able to perform calculations on a numeric field because it was currently represented as an object data type due to the fact that it had a dollar sign ($) in it. Similarly, imagine having a categorical field where you could not group records that belong in the same group together because in one field you are grouping by, terms that refer to the same thing are sometimes hyphenated. In cases like this, it is necessary to remove special characters so that we can properly analyze the data.\n",
    "\n",
    "In our vehicles data set, the trany field has several special characters (parentheses, hyphens, etc.). We can take a look at the unique values in this column by using the set function."
   ]
  },
  {
   "cell_type": "code",
   "execution_count": null,
   "id": "67cc1e4d",
   "metadata": {},
   "outputs": [],
   "source": [
    "print(set(data['trany']))"
   ]
  },
  {
   "cell_type": "markdown",
   "id": "952190e1",
   "metadata": {},
   "source": [
    "We can see that there are instances that refer to the same thing, but would not get grouped together due to special characters (e.g. Automatic 6-spd and Automatic 6spd). So let's remove all hyphens from this column with the help of the str.replace method and then print unique values again to ensure they were removed."
   ]
  },
  {
   "cell_type": "code",
   "execution_count": null,
   "id": "ddd9f172",
   "metadata": {},
   "outputs": [],
   "source": [
    "data['trany'] = data['trany'].str.replace('-', '')\n",
    "print(set(data['trany']))"
   ]
  },
  {
   "cell_type": "markdown",
   "id": "175a3a6a",
   "metadata": {},
   "source": [
    "You will also notice that in some cases Automatic is abbreviated to Auto and in other cases it is spelled out. We can make that more consistent by using the same technique. While we are at it, let's also attempt to remove parentheses and make spacing more consistent."
   ]
  },
  {
   "cell_type": "code",
   "execution_count": null,
   "id": "5180e669",
   "metadata": {},
   "outputs": [],
   "source": [
    "data['trany'] = data['trany'].str.replace('Automatic', 'Auto')\n",
    "data['trany'] = data['trany'].str.replace('Auto\\(', 'Auto ')\n",
    "data['trany'] = data['trany'].str.replace('Manual\\(', 'Manual ')\n",
    "data['trany'] = data['trany'].str.replace('\\(', '')\n",
    "data['trany'] = data['trany'].str.replace('\\)', '')\n",
    "print(set(data['trany']))"
   ]
  },
  {
   "cell_type": "markdown",
   "id": "5f9d647b",
   "metadata": {},
   "source": [
    "As you can see, we now have no special characters, consistent naming, and proper spacing. We started out with 47 unique values in this column, and using this technique, we were able to reduce the number of unique values to 39.\n"
   ]
  },
  {
   "cell_type": "markdown",
   "id": "bcfc7f8f",
   "metadata": {},
   "source": [
    "## Finding and Removing Duplicates"
   ]
  },
  {
   "cell_type": "markdown",
   "id": "71cb8008",
   "metadata": {},
   "source": [
    "The final topic we are going to cover in this lesson is how to identify and remove duplicate rows (or rows that refer to the same entity) in our data. When trying to identify duplicates, we will use the columns (or attributes) of the data to help us determine what entities are similar enough to be considered the same entity. We want to start with all the columns we currently have available to us and work our way toward a lesser number of attributes in an intuitive fashion. In this process, the act of dropping duplicated records is easy, but identifying the correct attributes for comparison and which records to drop is sometimes quite challenging.\n",
    "\n",
    "The first thing we will do is attempt to drop any duplicate records, considering all the columns we currently have in the data set. Pandas provides us with the ability to do that via the drop_duplicates method. We will use the len method to calculate the number of rows in the data set both before and after removing duplicates and then print the number of rows dropped."
   ]
  },
  {
   "cell_type": "code",
   "execution_count": null,
   "id": "59236663",
   "metadata": {},
   "outputs": [],
   "source": [
    "before = len(data)\n",
    "data = data.drop_duplicates()\n",
    "after = len(data)\n",
    "print('Number of duplicate records dropped: ', str(before - after))"
   ]
  },
  {
   "cell_type": "markdown",
   "id": "412193c7",
   "metadata": {},
   "source": [
    "This tells us that there were no records that matched exactly across all columns. However, if we reduce the number of columns in our data that we are interested in, we can try again and have a higher likelihood of finding duplicate records. In the example below, we will select a subset of columns, remove all other columns, and then use the drop_duplicates method to drop any duplicate records based on the remaining columns."
   ]
  },
  {
   "cell_type": "code",
   "execution_count": null,
   "id": "5adeaa48",
   "metadata": {},
   "outputs": [],
   "source": [
    "select_columns = ['make', 'model', 'year', 'displ', 'cylinders', \n",
    "                  'trany', 'drive', 'VClass','fuelType','barrels08', \n",
    "                  'city08', 'highway08', 'comb08', 'co2TailpipeGpm', 'fuelCost08']\n",
    "\n",
    "data = data[select_columns].drop_duplicates()\n",
    "after = len(data)\n",
    "print('Number of duplicate records dropped: ', str(before - after))\n"
   ]
  },
  {
   "cell_type": "markdown",
   "id": "2dcdbacf",
   "metadata": {},
   "source": [
    "With the reduced number of columns, we were able to identify and drop 885 duplicate records.\n",
    "\n"
   ]
  },
  {
   "cell_type": "markdown",
   "id": "bfbd6ecf",
   "metadata": {},
   "source": [
    "## Summary\n"
   ]
  },
  {
   "cell_type": "markdown",
   "id": "3077629f",
   "metadata": {},
   "source": [
    "In this lesson, we have learned many techniques for cleaning our data that will make it easier to analyze later. We started the lesson by learning how to examine the data for potential issues. We quickly moved on to finding missing values and incorrect values and correcting them. From there, we learned how to remove low variance columns and identify potential outliers. After that, we learned how to change a column's data type and clean our categorical variables in addition to learning how to identify and remove duplicate records. The techniques you have learned in this lesson are ones that you will find yourself revisiting and utilizing almost every time you prepare to analyze a data set, as most data sets you will encounter will require some level of cleaning."
   ]
  }
 ],
 "metadata": {
  "kernelspec": {
   "display_name": "Python 3 (ipykernel)",
   "language": "python",
   "name": "python3"
  },
  "language_info": {
   "codemirror_mode": {
    "name": "ipython",
    "version": 3
   },
   "file_extension": ".py",
   "mimetype": "text/x-python",
   "name": "python",
   "nbconvert_exporter": "python",
   "pygments_lexer": "ipython3",
   "version": "3.9.7"
  },
  "toc": {
   "base_numbering": 1,
   "nav_menu": {},
   "number_sections": false,
   "sideBar": true,
   "skip_h1_title": false,
   "title_cell": "Table of Contents",
   "title_sidebar": "Contents",
   "toc_cell": false,
   "toc_position": {},
   "toc_section_display": true,
   "toc_window_display": false
  }
 },
 "nbformat": 4,
 "nbformat_minor": 5
}
