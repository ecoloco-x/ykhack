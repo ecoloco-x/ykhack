{
 "cells": [
  {
   "cell_type": "code",
   "execution_count": 8,
   "id": "d418d3e0",
   "metadata": {},
   "outputs": [],
   "source": [
    "#Given the array of numbers , write a program to move all zeros to the end \n",
    "#keeping the relative order of the non-zero elements.\n",
    "\n",
    "def sort_zero(x):\n",
    "    \n",
    "    zero = []\n",
    "    non_zero=[]\n",
    "    for i in x:\n",
    "        if i == 0:\n",
    "            zero.append(i)\n",
    "        else:\n",
    "            non_zero.append(i)\n",
    "\n",
    "    y = non_zero + zero\n",
    "    return y"
   ]
  },
  {
   "cell_type": "code",
   "execution_count": 7,
   "id": "11fde00a",
   "metadata": {},
   "outputs": [
    {
     "data": {
      "text/plain": [
       "[1, 42, 36, 3, 2, 247, 100, 293, 111, 0, 0, 0]"
      ]
     },
     "execution_count": 7,
     "metadata": {},
     "output_type": "execute_result"
    }
   ],
   "source": [
    "x = [1, 42, 36, 0, 3, 0, 2, 247, 0, 100, 293, 111]\n",
    "result = sort_zero(x)\n",
    "result"
   ]
  },
  {
   "cell_type": "code",
   "execution_count": 39,
   "id": "6955a69f",
   "metadata": {},
   "outputs": [
    {
     "name": "stdout",
     "output_type": "stream",
     "text": [
      "words in common :  ['good', 'morning']\n",
      "words not in common :  ['hello', 'ironhack', 'on', 'thursday', 'the', 'weather', 'is', 'super', 'in', 'the']\n"
     ]
    }
   ],
   "source": [
    "# Given two sentences, return an array that has the words \n",
    "# that appear in one sentence and not the other and an array with the words in common.\n",
    "\n",
    "phrase_1 = \"Hello Ironhack good morning on Thursday\"\n",
    "phrase_2 = \"The weather is super good in the morning\"\n",
    "\n",
    "common = []\n",
    "\n",
    "\n",
    "# standardize the case\n",
    "phrase_1 = phrase_1.lower()\n",
    "phrase_2 = phrase_2.lower()\n",
    "\n",
    "\n",
    "words_1 = phrase_1.split(sep=\" \")\n",
    "words_2 = phrase_2.split(sep=\" \")\n",
    "#print(words_1)\n",
    "#print(words_2)\n",
    "\n",
    "for i in words_1:\n",
    "    if i in words_2:\n",
    "        common.append(i)\n",
    "    \n",
    "        \n",
    "        \n",
    "#(common)\n",
    "\n",
    "all_words = words_1 + words_2\n",
    "\n",
    "non_common = []\n",
    "for i in all_words:\n",
    "    if i not in common:\n",
    "        non_common.append(i)\n",
    "        \n",
    "non_common\n",
    "print('words in common : ', common)\n",
    "print('words not in common : ', non_common)"
   ]
  },
  {
   "cell_type": "code",
   "execution_count": null,
   "id": "2edcc579",
   "metadata": {},
   "outputs": [],
   "source": []
  }
 ],
 "metadata": {
  "kernelspec": {
   "display_name": "Python 3 (ipykernel)",
   "language": "python",
   "name": "python3"
  },
  "language_info": {
   "codemirror_mode": {
    "name": "ipython",
    "version": 3
   },
   "file_extension": ".py",
   "mimetype": "text/x-python",
   "name": "python",
   "nbconvert_exporter": "python",
   "pygments_lexer": "ipython3",
   "version": "3.9.13"
  }
 },
 "nbformat": 4,
 "nbformat_minor": 5
}
