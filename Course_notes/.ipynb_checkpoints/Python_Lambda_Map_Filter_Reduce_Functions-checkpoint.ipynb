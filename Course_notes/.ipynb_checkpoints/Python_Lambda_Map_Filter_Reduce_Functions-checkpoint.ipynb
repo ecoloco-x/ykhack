{
 "cells": [
  {
   "cell_type": "markdown",
   "id": "30485a80",
   "metadata": {},
   "source": [
    "## Lambda function"
   ]
  },
  {
   "cell_type": "markdown",
   "id": "00c0333b",
   "metadata": {},
   "source": [
    "<b> Benefits\n",
    "- Anonymous functions: Lambdas allow for the creation of anonymous functions, meaning they can be used inline.\n",
    "- Improved code readability: Using short, one-line functions in place of longer, multi-line functions can improve code readability.\n",
    "- Improved code organization: By allowing for functions to be created and used inline, lambdas can help organize code and make it easier to understand.\n",
    "- Improved performance: Because lambdas are anonymous and compact, they can be faster to execute than multi-line functions."
   ]
  },
  {
   "cell_type": "markdown",
   "id": "867af00e",
   "metadata": {},
   "source": [
    "<b> Defining Lambda function <b>\n",
    "    \n",
    "Let's look at an example of a lambda function and an equivalent function in Python below."
   ]
  },
  {
   "cell_type": "code",
   "execution_count": null,
   "id": "1759ebe9",
   "metadata": {},
   "outputs": [],
   "source": [
    "# Below is a lambda function that takes a number and returns its square\n",
    "square = lambda x: x * x\n",
    "\n",
    "# Here we have a function that returns the same result as the lambda function\n",
    "def square_function(x):\n",
    "    return x * x\n",
    "    \n",
    "print(square(5))\n",
    "\n",
    "print(square_function(5))\n"
   ]
  },
  {
   "cell_type": "markdown",
   "id": "c8675157",
   "metadata": {
    "scrolled": false
   },
   "source": [
    "We can also pass multiple arguments to our lambda function.\n"
   ]
  },
  {
   "cell_type": "code",
   "execution_count": null,
   "id": "0fe0518a",
   "metadata": {},
   "outputs": [],
   "source": [
    "summarize = lambda a, b: a + b\n",
    "\n",
    "summarize(5, 6)"
   ]
  },
  {
   "cell_type": "markdown",
   "id": "697fac36",
   "metadata": {},
   "source": [
    "**If Statements in Lambda Functions**\n",
    "\n",
    "If statements have a slightly different syntax in a lambda expression. Below is an example of a lambda expression that computes the fraction of two numbers unless the denominator is zero."
   ]
  },
  {
   "cell_type": "code",
   "execution_count": null,
   "id": "b07cdf19",
   "metadata": {},
   "outputs": [],
   "source": [
    "div = lambda num, denom: num / denom if (denom != 0) else 0\n",
    "\n",
    "div(5, 10)\n",
    "\n",
    "div(10, 0)\n"
   ]
  },
  {
   "cell_type": "markdown",
   "id": "21bdea53",
   "metadata": {},
   "source": [
    "<b>Lambdas in the Return Statement of a Function<b>\n",
    "\n",
    "We can use lambda expressions to return a function from a function. Here is an example:"
   ]
  },
  {
   "cell_type": "code",
   "execution_count": 2,
   "id": "8a91dd6b",
   "metadata": {},
   "outputs": [
    {
     "name": "stdout",
     "output_type": "stream",
     "text": [
      "<class 'function'>\n"
     ]
    },
    {
     "data": {
      "text/plain": [
       "[0, 1, 2, 3, 4]"
      ]
     },
     "execution_count": 2,
     "metadata": {},
     "output_type": "execute_result"
    }
   ],
   "source": [
    "def generate_range(lower):\n",
    "    return lambda upper: range(lower, upper)\n",
    "    \n",
    "custom_range = generate_range(0)\n",
    "print(type(custom_range))\n",
    "custom_range(10)\n",
    "range(0, 10)\n",
    " \n",
    "[x for x in custom_range(10)]\n",
    "\n",
    "[x for x in custom_range(5)]\n"
   ]
  },
  {
   "cell_type": "markdown",
   "id": "86fe9a45",
   "metadata": {},
   "source": [
    "<b>Lambdas in List Comprehensions<b>\n",
    "\n",
    "Lambdas are great when we want to generate a list in a quick and concise manner. We can apply the lambda expression to every element in the list and generate a new list.\n",
    "\n",
    "Here is an example of generating the squares of all numbers 1 through 10. We generate the numbers using the range function and square them using a lambda expression."
   ]
  },
  {
   "cell_type": "code",
   "execution_count": null,
   "id": "0b8ee011",
   "metadata": {},
   "outputs": [],
   "source": [
    "square = lambda x: x * x\n",
    "squared = [square(x) for x in range(1, 10)]\n",
    "\n",
    "\n",
    "print(squared)"
   ]
  },
  {
   "cell_type": "markdown",
   "id": "7d1e9d34",
   "metadata": {},
   "source": [
    "We can also use lambda functions to transform existing lists. Here we replace a dash with a space in a list of school subjects.\n",
    "\n"
   ]
  },
  {
   "cell_type": "code",
   "execution_count": null,
   "id": "33fde03f",
   "metadata": {},
   "outputs": [],
   "source": [
    "school_dash = ['Calclulus', 'Philosophy', 'Art-History', 'Computer-Science']\n",
    "\n",
    "school_space = [(lambda x: x.replace('-', ' '))(x) for x in school_dash]\n",
    "#school_space = [x.replace('-', ' ') for x in school_dash]\n",
    "\n",
    "print(school_space)\n"
   ]
  },
  {
   "cell_type": "markdown",
   "id": "ed13e057",
   "metadata": {},
   "source": [
    "<b>Lambdas as Arguments in Functions<b>\n",
    "    \n",
    "Lambda functions really shine as arguments in functions. One example is sorting. Typically, we only sort using the default options in Python. However, we can define our own custom sorting lambda expression and pass that as an argument to the sorting function.\n",
    "\n",
    "In the example below we will sort by the last letter of the school subject. We will first create a lambda function that returns the last letter of the string and then sort using this function as a sorting key."
   ]
  },
  {
   "cell_type": "code",
   "execution_count": null,
   "id": "60e4d4c9",
   "metadata": {},
   "outputs": [],
   "source": [
    "last = lambda x: x[-1]\n",
    "\n",
    "sorted(school_space, key=last)"
   ]
  },
  {
   "cell_type": "markdown",
   "id": "9ecdf6cb",
   "metadata": {},
   "source": [
    "## Map function "
   ]
  },
  {
   "cell_type": "markdown",
   "id": "751dad2c",
   "metadata": {},
   "source": [
    "The goal of the map function in Python is to apply a function to each element in an iterable object (such as a list, tuple, set, etc.) and return a map object containing the results. The map object can be converted to a list, tuple, set, etc. if needed. The purpose of map is to allow for a concise, readable way to apply a function to every element in a sequence without the need for a for loop."
   ]
  },
  {
   "cell_type": "markdown",
   "id": "cd5f6214",
   "metadata": {},
   "source": [
    "In the example below, the square function is applied to each element in the numbers list using the map function. The result is a map object, which is then converted to a list using the list function. The resulting list, squared_numbers, contains the squares of the numbers in the original numbers list."
   ]
  },
  {
   "cell_type": "code",
   "execution_count": null,
   "id": "72e3763e",
   "metadata": {},
   "outputs": [],
   "source": [
    "def square(x):\n",
    "    return x**2\n",
    "\n",
    "numbers = [1, 2, 3, 4, 5]\n",
    "squared_numbers = list(map(square, numbers))\n",
    "print(squared_numbers)"
   ]
  },
  {
   "cell_type": "markdown",
   "id": "8ee86b2b",
   "metadata": {},
   "source": [
    "In the example below, the map function is used to apply a lambda function (lambda x: x**2) to each element in the numbers list. The lambda function calculates the square of its input. The result is a map object, which is then converted to a list using the list function. The resulting list, squared_numbers, contains the squares of the numbers in the original numbers list."
   ]
  },
  {
   "cell_type": "code",
   "execution_count": null,
   "id": "007977c5",
   "metadata": {},
   "outputs": [],
   "source": [
    "numbers = [1, 2, 3, 4, 5]\n",
    "squared_numbers = list(map(lambda x: x**2, numbers))\n",
    "print(squared_numbers)"
   ]
  },
  {
   "cell_type": "markdown",
   "id": "1ff084e4",
   "metadata": {},
   "source": [
    "## Filter function"
   ]
  },
  {
   "cell_type": "markdown",
   "id": "2dc0ff84",
   "metadata": {},
   "source": [
    "The filter function in Python is a built-in function that takes two arguments: a function and an iterable. The function is applied to each element in the iterable, and the filter function returns a filter object containing only the elements for which the function returns True. The filter object can be converted to a list, tuple, set, etc. if needed. The purpose of filter is to allow for a concise, readable way to filter elements in a sequence based on a given condition without the need for a for loop."
   ]
  },
  {
   "cell_type": "markdown",
   "id": "832a0e73",
   "metadata": {},
   "source": [
    "In the example below, the filter function is used to filter the elements in the numbers list based on the is_even function. The is_even function returns True if its input is even, and False otherwise. The filter function applies the is_even function to each element in the numbers list and returns a filter object containing only the elements for which the is_even function returned True. The result is then converted to a list using the list function. The resulting list, even_numbers, contains only the even numbers from the original numbers list."
   ]
  },
  {
   "cell_type": "code",
   "execution_count": null,
   "id": "1f997a2e",
   "metadata": {},
   "outputs": [],
   "source": [
    "def is_even(x):\n",
    "    return x % 2 == 0\n",
    "\n",
    "numbers = [1, 2, 3, 4, 5, 6]\n",
    "even_numbers = list(filter(is_even, numbers))\n",
    "print(even_numbers)"
   ]
  },
  {
   "cell_type": "markdown",
   "id": "a5db917d",
   "metadata": {},
   "source": [
    "and with Lambda function"
   ]
  },
  {
   "cell_type": "code",
   "execution_count": null,
   "id": "de8fdd23",
   "metadata": {},
   "outputs": [],
   "source": [
    "numbers = [1, 2, 3, 4, 5, 6]\n",
    "even_numbers = list(filter(lambda x: x % 2 == 0, numbers))\n",
    "print(even_numbers)"
   ]
  },
  {
   "cell_type": "markdown",
   "id": "bc27dd05",
   "metadata": {},
   "source": [
    "## Reduce function"
   ]
  },
  {
   "cell_type": "markdown",
   "id": "570619fb",
   "metadata": {},
   "source": [
    "The reduce function in Python is a function from the functools module that takes two arguments: a function and an iterable. The function is applied cumulatively to the elements of the iterable, from left to right, to reduce the iterable to a single value. The purpose of reduce is to provide a way to perform a cumulative operation on the elements of a sequence."
   ]
  },
  {
   "cell_type": "markdown",
   "id": "4323bfab",
   "metadata": {},
   "source": [
    "In the example below, the reduce function is used to multiply the elements in the numbers list. The lambda function (lambda x, y: x*y) takes two arguments, x and y, and returns their product. The reduce function applies the lambda function cumulatively to the elements in the numbers list, from left to right, to reduce the list to a single value. The final result, stored in the product variable, is the product of all the numbers in the numbers list."
   ]
  },
  {
   "cell_type": "code",
   "execution_count": null,
   "id": "bb055af5",
   "metadata": {},
   "outputs": [],
   "source": [
    "from functools import reduce\n",
    "\n",
    "numbers = [1, 2, 3, 4, 5]\n",
    "product = reduce(lambda x, y: x*y, numbers)\n",
    "print(product)"
   ]
  },
  {
   "cell_type": "code",
   "execution_count": null,
   "id": "3d750b73",
   "metadata": {},
   "outputs": [],
   "source": []
  }
 ],
 "metadata": {
  "kernelspec": {
   "display_name": "Python 3 (ipykernel)",
   "language": "python",
   "name": "python3"
  },
  "language_info": {
   "codemirror_mode": {
    "name": "ipython",
    "version": 3
   },
   "file_extension": ".py",
   "mimetype": "text/x-python",
   "name": "python",
   "nbconvert_exporter": "python",
   "pygments_lexer": "ipython3",
   "version": "3.9.13"
  },
  "toc": {
   "base_numbering": 1,
   "nav_menu": {},
   "number_sections": true,
   "sideBar": true,
   "skip_h1_title": false,
   "title_cell": "Table of Contents",
   "title_sidebar": "Contents",
   "toc_cell": false,
   "toc_position": {},
   "toc_section_display": true,
   "toc_window_display": false
  }
 },
 "nbformat": 4,
 "nbformat_minor": 5
}
