{
 "cells": [
  {
   "cell_type": "markdown",
   "id": "409e729e",
   "metadata": {},
   "source": [
    "## Descriptive Statistics"
   ]
  },
  {
   "cell_type": "markdown",
   "id": "1241842a",
   "metadata": {},
   "source": [
    "Descriptive statistics is a branch of statistics that deals with summarizing and describing the main features of a dataset. In Python, descriptive statistics can be calculated using various libraries such as NumPy, Pandas, and SciPy. These libraries provide functions for calculating common descriptive statistics such as mean, median, mode, standard deviation, variance, minimum, maximum, quartiles, percentiles, skewness, kurtosis, and more."
   ]
  },
  {
   "cell_type": "markdown",
   "id": "5e179074",
   "metadata": {},
   "source": [
    "### using Pandas"
   ]
  },
  {
   "cell_type": "markdown",
   "id": "35beac21",
   "metadata": {},
   "source": [
    "Pandas is a popular Python library for data analysis that provides various functions for descriptive statistics. Here is an example of how to use some of these functions in Pandas:"
   ]
  },
  {
   "cell_type": "markdown",
   "id": "93ce5af5",
   "metadata": {},
   "source": [
    "In the example below, we create a sample data frame named df with two columns, Score and Subject. We then calculate various descriptive statistics such as mean, median, mode, range, variance, standard deviation, and quartiles using the appropriate Pandas functions. The results of these calculations are printed to the console."
   ]
  },
  {
   "cell_type": "code",
   "execution_count": null,
   "id": "6a178340",
   "metadata": {},
   "outputs": [],
   "source": [
    "import pandas as pd\n",
    "\n",
    "# create a sample data frame\n",
    "data = {'Score': [90, 95, 85, 92, 88, 80],\n",
    "        'Subject': ['Math', 'English', 'History', 'Science', 'Geography', 'Art']}\n",
    "df = pd.DataFrame(data)\n"
   ]
  },
  {
   "cell_type": "code",
   "execution_count": null,
   "id": "5b0b30bc",
   "metadata": {},
   "outputs": [],
   "source": [
    "# calculate the mean\n",
    "mean = df['Score'].mean()\n",
    "print(\"Mean:\", mean)"
   ]
  },
  {
   "cell_type": "code",
   "execution_count": null,
   "id": "d0200caf",
   "metadata": {},
   "outputs": [],
   "source": [
    "# calculate the median\n",
    "median = df['Score'].median()\n",
    "print(\"Median:\", median)"
   ]
  },
  {
   "cell_type": "code",
   "execution_count": null,
   "id": "d395ef6f",
   "metadata": {},
   "outputs": [],
   "source": [
    "# calculate the mode\n",
    "mode = df['Score'].mode().values[0]\n",
    "print(\"Mode:\", mode)"
   ]
  },
  {
   "cell_type": "code",
   "execution_count": null,
   "id": "ef680a89",
   "metadata": {},
   "outputs": [],
   "source": [
    "# calculate the range\n",
    "rng = df['Score'].max() - df['Score'].min()\n",
    "print(\"Range:\", rng)"
   ]
  },
  {
   "cell_type": "code",
   "execution_count": null,
   "id": "7b7c94e8",
   "metadata": {},
   "outputs": [],
   "source": [
    "# calculate the variance\n",
    "var = df['Score'].var()\n",
    "print(\"Variance:\", var)"
   ]
  },
  {
   "cell_type": "code",
   "execution_count": null,
   "id": "e8d8a9ae",
   "metadata": {},
   "outputs": [],
   "source": [
    "# calculate the standard deviation\n",
    "std = df['Score'].std()\n",
    "print(\"Standard Deviation:\", std)"
   ]
  },
  {
   "cell_type": "code",
   "execution_count": null,
   "id": "a791dd54",
   "metadata": {},
   "outputs": [],
   "source": [
    "# calculate the quartiles\n",
    "quartiles = df['Score'].quantile([0.25, 0.5, 0.75])\n",
    "print(\"Quartiles: \\n\", quartiles)"
   ]
  },
  {
   "cell_type": "markdown",
   "id": "d9b81537",
   "metadata": {},
   "source": [
    "### using Numpy and Scipy"
   ]
  },
  {
   "cell_type": "code",
   "execution_count": null,
   "id": "26a4c8f9",
   "metadata": {},
   "outputs": [],
   "source": [
    "import numpy as np\n",
    "from scipy import stats"
   ]
  },
  {
   "cell_type": "code",
   "execution_count": null,
   "id": "be66da19",
   "metadata": {},
   "outputs": [],
   "source": [
    "# create a sample data array\n",
    "data = np.array([90, 95, 85, 92, 88, 80])\n",
    "\n",
    "# calculate the mean\n",
    "mean = np.mean(data)\n",
    "print(\"Mean:\", mean)\n",
    "\n",
    "# calculate the median\n",
    "median = np.median(data)\n",
    "print(\"Median:\", median)\n",
    "\n",
    "# calculate the mode\n",
    "mode = stats.mode(data)\n",
    "print(\"Mode:\", mode.mode[0])\n",
    "\n",
    "# calculate the range\n",
    "rng = np.ptp(data)\n",
    "print(\"Range:\", rng)\n",
    "\n",
    "# calculate the variance\n",
    "var = np.var(data)\n",
    "print(\"Variance:\", var)\n",
    "\n",
    "# calculate the standard deviation\n",
    "std = np.std(data)\n",
    "print(\"Standard Deviation:\", std)\n",
    "\n",
    "# calculate the quartiles\n",
    "quartiles = np.percentile(data, [25, 50, 75])\n",
    "print(\"Quartiles:\", quartiles)\n"
   ]
  },
  {
   "cell_type": "markdown",
   "id": "f83e410f",
   "metadata": {},
   "source": [
    "##  probability distributions using Scipy"
   ]
  },
  {
   "cell_type": "markdown",
   "id": "9e4b7c1d",
   "metadata": {},
   "source": [
    "Scipy provides functions for working with probability distributions, including functions for generating random numbers from specific distributions, fitting data to a specific distribution, and calculating the cumulative distribution function (CDF) or probability density function (PDF) for a given distribution. "
   ]
  },
  {
   "cell_type": "code",
   "execution_count": null,
   "id": "4875c42f",
   "metadata": {},
   "outputs": [],
   "source": [
    "import numpy as np\n",
    "import matplotlib.pyplot as plt\n",
    "from scipy.stats import norm, expon, uniform\n",
    "\n",
    "# generate random numbers from a normal distribution\n",
    "mean = 0\n",
    "std = 1\n",
    "r = norm.rvs(mean, std, size=100)\n",
    "\n",
    "# plot the histogram\n",
    "plt.hist(r, bins=25, density=True)\n",
    "\n",
    "# plot the PDF\n",
    "x = np.linspace(-5, 5, 100)\n",
    "pdf = norm.pdf(x, mean, std)\n",
    "plt.plot(x, pdf, 'k-', lw=2, label='Normal PDF')\n",
    "\n",
    "# add labels and title\n",
    "plt.xlabel('Value')\n",
    "plt.ylabel('Density')\n",
    "plt.title('Normal Distribution')\n",
    "plt.legend()\n",
    "\n",
    "# display the plot\n",
    "plt.show()"
   ]
  },
  {
   "cell_type": "code",
   "execution_count": null,
   "id": "39a5228d",
   "metadata": {},
   "outputs": [],
   "source": [
    "# generate random numbers from an exponential distribution\n",
    "scale = 1\n",
    "r = expon.rvs(scale=scale, size=100)\n",
    "\n",
    "# plot the histogram\n",
    "plt.hist(r, bins=25, density=True)\n",
    "\n",
    "# plot the PDF\n",
    "x = np.linspace(0, 5, 100)\n",
    "pdf = expon.pdf(x, scale=scale)\n",
    "plt.plot(x, pdf, 'k-', lw=2, label='Exponential PDF')\n",
    "\n",
    "# add labels and title\n",
    "plt.xlabel('Value')\n",
    "plt.ylabel('Density')\n",
    "plt.title('Exponential Distribution')\n",
    "plt.legend()\n",
    "\n",
    "# display the plot\n",
    "plt.show()\n",
    "\n"
   ]
  },
  {
   "cell_type": "code",
   "execution_count": null,
   "id": "1b12a38d",
   "metadata": {},
   "outputs": [],
   "source": [
    "# generate random numbers from a uniform distribution\n",
    "loc = 0\n",
    "scale = 1\n",
    "r = uniform.rvs(loc, scale, size=100)\n",
    "\n",
    "# plot the histogram\n",
    "plt.hist(r, bins=25, density=True)\n",
    "\n",
    "# plot the PDF\n",
    "x = np.linspace(-2, 2, 100)\n",
    "pdf = uniform.pdf(x, loc, scale)\n",
    "plt.plot(x, pdf, 'k-', lw=2, label='Uniform PDF')\n",
    "\n",
    "# add labels and title\n",
    "plt.xlabel('Value')\n",
    "plt.ylabel('Density')\n",
    "plt.title('Uniform Distribution')\n",
    "plt.legend()\n",
    "\n",
    "# display the plot\n",
    "plt.show()\n"
   ]
  },
  {
   "cell_type": "markdown",
   "id": "68635e38",
   "metadata": {},
   "source": [
    "### cumulative distribution function (cdf)\n",
    "In the example below, use Scipy's norm function to generate random numbers from a normal distribution. We then plot a histogram of the generated data and overlay the CDF for the normal distribution on the histogram. The resulting plot will display the cumulative probability of observing values less than or equal to a given value for the normal distribution."
   ]
  },
  {
   "cell_type": "code",
   "execution_count": null,
   "id": "e1022c5c",
   "metadata": {},
   "outputs": [],
   "source": [
    "import numpy as np\n",
    "import matplotlib.pyplot as plt\n",
    "from scipy.stats import norm\n",
    "\n",
    "# generate random numbers from a normal distribution\n",
    "mean = 0\n",
    "std = 1\n",
    "r = norm.rvs(mean, std, size=100)\n",
    "\n",
    "# plot the histogram\n",
    "plt.hist(r, bins=25, density=True, cumulative=True, histtype='step', color='red', alpha=0.8, label='Histogram')\n",
    "\n",
    "# plot the CDF\n",
    "x = np.linspace(-5, 5, 100)\n",
    "cdf = norm.cdf(x, mean, std)\n",
    "plt.plot(x, cdf, 'k-', lw=2, label='CDF')\n",
    "\n",
    "# add labels and title\n",
    "plt.xlabel('Value')\n",
    "plt.ylabel('Cumulative Probability')\n",
    "plt.title('CDF of Normal Distribution')\n",
    "plt.legend()\n",
    "\n",
    "# display the plot\n",
    "plt.show()"
   ]
  },
  {
   "cell_type": "code",
   "execution_count": null,
   "id": "ac8960bc",
   "metadata": {},
   "outputs": [],
   "source": []
  }
 ],
 "metadata": {
  "kernelspec": {
   "display_name": "Python 3 (ipykernel)",
   "language": "python",
   "name": "python3"
  },
  "language_info": {
   "codemirror_mode": {
    "name": "ipython",
    "version": 3
   },
   "file_extension": ".py",
   "mimetype": "text/x-python",
   "name": "python",
   "nbconvert_exporter": "python",
   "pygments_lexer": "ipython3",
   "version": "3.9.13"
  },
  "toc": {
   "base_numbering": 1,
   "nav_menu": {},
   "number_sections": false,
   "sideBar": true,
   "skip_h1_title": false,
   "title_cell": "Table of Contents",
   "title_sidebar": "Contents",
   "toc_cell": false,
   "toc_position": {},
   "toc_section_display": true,
   "toc_window_display": false
  }
 },
 "nbformat": 4,
 "nbformat_minor": 5
}
