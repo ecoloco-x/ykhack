{
 "cells": [
  {
   "cell_type": "markdown",
   "id": "2aeb1073",
   "metadata": {},
   "source": [
    "# KNN Classification"
   ]
  },
  {
   "cell_type": "code",
   "execution_count": 59,
   "id": "55209572",
   "metadata": {},
   "outputs": [],
   "source": [
    "import pandas as pd\n",
    "## plotting libraries\n",
    "from matplotlib import pyplot as plt\n",
    "## Sklearn libraries\n",
    "from sklearn.model_selection import train_test_split\n",
    "from sklearn.neighbors import KNeighborsClassifier\n",
    "from sklearn.metrics import plot_confusion_matrix\n",
    "from sklearn.metrics import accuracy_score, precision_score, recall_score\n",
    "from sklearn.metrics import roc_curve, auc\n",
    "\n",
    "import warnings\n",
    "warnings.filterwarnings(\"ignore\", category=FutureWarning)\n",
    "\n",
    "%matplotlib inline"
   ]
  },
  {
   "cell_type": "code",
   "execution_count": 60,
   "id": "2f2db28a",
   "metadata": {},
   "outputs": [],
   "source": [
    "TT_SPLIT = 0.2     # ratio train/test size\n",
    "RAND_STATE = 123   # specifies a sampling for repeatable results"
   ]
  },
  {
   "cell_type": "markdown",
   "id": "6df81a27",
   "metadata": {},
   "source": [
    "<b>load classification sample datasets"
   ]
  },
  {
   "cell_type": "code",
   "execution_count": 61,
   "id": "6f73c81b",
   "metadata": {},
   "outputs": [],
   "source": [
    "from sklearn import datasets\n",
    "## comment the unneeded data sets\n",
    "\n",
    "## classification data sets\n",
    "X, y= datasets.load_breast_cancer(return_X_y=True,as_frame=True) # load the X,y data as dataframes\n",
    "#X, y= datasets.load_iris(return_X_y=True,as_frame=True)\n",
    "#X, y= datasets.load_wine(return_X_y=True,as_frame=True)"
   ]
  },
  {
   "cell_type": "markdown",
   "id": "d177136c",
   "metadata": {},
   "source": [
    "Information about the [breast-cancer](https://scikit-learn.org/stable/datasets/toy_dataset.html#breast-cancer-dataset) data set"
   ]
  },
  {
   "cell_type": "code",
   "execution_count": 62,
   "id": "09afd18c",
   "metadata": {},
   "outputs": [
    {
     "data": {
      "text/html": [
       "<div>\n",
       "<style scoped>\n",
       "    .dataframe tbody tr th:only-of-type {\n",
       "        vertical-align: middle;\n",
       "    }\n",
       "\n",
       "    .dataframe tbody tr th {\n",
       "        vertical-align: top;\n",
       "    }\n",
       "\n",
       "    .dataframe thead th {\n",
       "        text-align: right;\n",
       "    }\n",
       "</style>\n",
       "<table border=\"1\" class=\"dataframe\">\n",
       "  <thead>\n",
       "    <tr style=\"text-align: right;\">\n",
       "      <th></th>\n",
       "      <th>mean radius</th>\n",
       "      <th>mean texture</th>\n",
       "      <th>mean perimeter</th>\n",
       "      <th>mean area</th>\n",
       "      <th>mean smoothness</th>\n",
       "      <th>mean compactness</th>\n",
       "      <th>mean concavity</th>\n",
       "      <th>mean concave points</th>\n",
       "      <th>mean symmetry</th>\n",
       "      <th>mean fractal dimension</th>\n",
       "      <th>...</th>\n",
       "      <th>worst radius</th>\n",
       "      <th>worst texture</th>\n",
       "      <th>worst perimeter</th>\n",
       "      <th>worst area</th>\n",
       "      <th>worst smoothness</th>\n",
       "      <th>worst compactness</th>\n",
       "      <th>worst concavity</th>\n",
       "      <th>worst concave points</th>\n",
       "      <th>worst symmetry</th>\n",
       "      <th>worst fractal dimension</th>\n",
       "    </tr>\n",
       "  </thead>\n",
       "  <tbody>\n",
       "    <tr>\n",
       "      <th>count</th>\n",
       "      <td>569.00</td>\n",
       "      <td>569.00</td>\n",
       "      <td>569.00</td>\n",
       "      <td>569.00</td>\n",
       "      <td>569.00</td>\n",
       "      <td>569.00</td>\n",
       "      <td>569.00</td>\n",
       "      <td>569.00</td>\n",
       "      <td>569.00</td>\n",
       "      <td>569.00</td>\n",
       "      <td>...</td>\n",
       "      <td>569.00</td>\n",
       "      <td>569.00</td>\n",
       "      <td>569.00</td>\n",
       "      <td>569.00</td>\n",
       "      <td>569.00</td>\n",
       "      <td>569.00</td>\n",
       "      <td>569.00</td>\n",
       "      <td>569.00</td>\n",
       "      <td>569.00</td>\n",
       "      <td>569.00</td>\n",
       "    </tr>\n",
       "    <tr>\n",
       "      <th>mean</th>\n",
       "      <td>14.13</td>\n",
       "      <td>19.29</td>\n",
       "      <td>91.97</td>\n",
       "      <td>654.89</td>\n",
       "      <td>0.10</td>\n",
       "      <td>0.10</td>\n",
       "      <td>0.09</td>\n",
       "      <td>0.05</td>\n",
       "      <td>0.18</td>\n",
       "      <td>0.06</td>\n",
       "      <td>...</td>\n",
       "      <td>16.27</td>\n",
       "      <td>25.68</td>\n",
       "      <td>107.26</td>\n",
       "      <td>880.58</td>\n",
       "      <td>0.13</td>\n",
       "      <td>0.25</td>\n",
       "      <td>0.27</td>\n",
       "      <td>0.11</td>\n",
       "      <td>0.29</td>\n",
       "      <td>0.08</td>\n",
       "    </tr>\n",
       "    <tr>\n",
       "      <th>std</th>\n",
       "      <td>3.52</td>\n",
       "      <td>4.30</td>\n",
       "      <td>24.30</td>\n",
       "      <td>351.91</td>\n",
       "      <td>0.01</td>\n",
       "      <td>0.05</td>\n",
       "      <td>0.08</td>\n",
       "      <td>0.04</td>\n",
       "      <td>0.03</td>\n",
       "      <td>0.01</td>\n",
       "      <td>...</td>\n",
       "      <td>4.83</td>\n",
       "      <td>6.15</td>\n",
       "      <td>33.60</td>\n",
       "      <td>569.36</td>\n",
       "      <td>0.02</td>\n",
       "      <td>0.16</td>\n",
       "      <td>0.21</td>\n",
       "      <td>0.07</td>\n",
       "      <td>0.06</td>\n",
       "      <td>0.02</td>\n",
       "    </tr>\n",
       "    <tr>\n",
       "      <th>min</th>\n",
       "      <td>6.98</td>\n",
       "      <td>9.71</td>\n",
       "      <td>43.79</td>\n",
       "      <td>143.50</td>\n",
       "      <td>0.05</td>\n",
       "      <td>0.02</td>\n",
       "      <td>0.00</td>\n",
       "      <td>0.00</td>\n",
       "      <td>0.11</td>\n",
       "      <td>0.05</td>\n",
       "      <td>...</td>\n",
       "      <td>7.93</td>\n",
       "      <td>12.02</td>\n",
       "      <td>50.41</td>\n",
       "      <td>185.20</td>\n",
       "      <td>0.07</td>\n",
       "      <td>0.03</td>\n",
       "      <td>0.00</td>\n",
       "      <td>0.00</td>\n",
       "      <td>0.16</td>\n",
       "      <td>0.06</td>\n",
       "    </tr>\n",
       "    <tr>\n",
       "      <th>25%</th>\n",
       "      <td>11.70</td>\n",
       "      <td>16.17</td>\n",
       "      <td>75.17</td>\n",
       "      <td>420.30</td>\n",
       "      <td>0.09</td>\n",
       "      <td>0.06</td>\n",
       "      <td>0.03</td>\n",
       "      <td>0.02</td>\n",
       "      <td>0.16</td>\n",
       "      <td>0.06</td>\n",
       "      <td>...</td>\n",
       "      <td>13.01</td>\n",
       "      <td>21.08</td>\n",
       "      <td>84.11</td>\n",
       "      <td>515.30</td>\n",
       "      <td>0.12</td>\n",
       "      <td>0.15</td>\n",
       "      <td>0.11</td>\n",
       "      <td>0.06</td>\n",
       "      <td>0.25</td>\n",
       "      <td>0.07</td>\n",
       "    </tr>\n",
       "    <tr>\n",
       "      <th>50%</th>\n",
       "      <td>13.37</td>\n",
       "      <td>18.84</td>\n",
       "      <td>86.24</td>\n",
       "      <td>551.10</td>\n",
       "      <td>0.10</td>\n",
       "      <td>0.09</td>\n",
       "      <td>0.06</td>\n",
       "      <td>0.03</td>\n",
       "      <td>0.18</td>\n",
       "      <td>0.06</td>\n",
       "      <td>...</td>\n",
       "      <td>14.97</td>\n",
       "      <td>25.41</td>\n",
       "      <td>97.66</td>\n",
       "      <td>686.50</td>\n",
       "      <td>0.13</td>\n",
       "      <td>0.21</td>\n",
       "      <td>0.23</td>\n",
       "      <td>0.10</td>\n",
       "      <td>0.28</td>\n",
       "      <td>0.08</td>\n",
       "    </tr>\n",
       "    <tr>\n",
       "      <th>75%</th>\n",
       "      <td>15.78</td>\n",
       "      <td>21.80</td>\n",
       "      <td>104.10</td>\n",
       "      <td>782.70</td>\n",
       "      <td>0.11</td>\n",
       "      <td>0.13</td>\n",
       "      <td>0.13</td>\n",
       "      <td>0.07</td>\n",
       "      <td>0.20</td>\n",
       "      <td>0.07</td>\n",
       "      <td>...</td>\n",
       "      <td>18.79</td>\n",
       "      <td>29.72</td>\n",
       "      <td>125.40</td>\n",
       "      <td>1084.00</td>\n",
       "      <td>0.15</td>\n",
       "      <td>0.34</td>\n",
       "      <td>0.38</td>\n",
       "      <td>0.16</td>\n",
       "      <td>0.32</td>\n",
       "      <td>0.09</td>\n",
       "    </tr>\n",
       "    <tr>\n",
       "      <th>max</th>\n",
       "      <td>28.11</td>\n",
       "      <td>39.28</td>\n",
       "      <td>188.50</td>\n",
       "      <td>2501.00</td>\n",
       "      <td>0.16</td>\n",
       "      <td>0.35</td>\n",
       "      <td>0.43</td>\n",
       "      <td>0.20</td>\n",
       "      <td>0.30</td>\n",
       "      <td>0.10</td>\n",
       "      <td>...</td>\n",
       "      <td>36.04</td>\n",
       "      <td>49.54</td>\n",
       "      <td>251.20</td>\n",
       "      <td>4254.00</td>\n",
       "      <td>0.22</td>\n",
       "      <td>1.06</td>\n",
       "      <td>1.25</td>\n",
       "      <td>0.29</td>\n",
       "      <td>0.66</td>\n",
       "      <td>0.21</td>\n",
       "    </tr>\n",
       "  </tbody>\n",
       "</table>\n",
       "<p>8 rows × 30 columns</p>\n",
       "</div>"
      ],
      "text/plain": [
       "       mean radius  mean texture  mean perimeter  mean area  mean smoothness  \\\n",
       "count       569.00        569.00          569.00     569.00           569.00   \n",
       "mean         14.13         19.29           91.97     654.89             0.10   \n",
       "std           3.52          4.30           24.30     351.91             0.01   \n",
       "min           6.98          9.71           43.79     143.50             0.05   \n",
       "25%          11.70         16.17           75.17     420.30             0.09   \n",
       "50%          13.37         18.84           86.24     551.10             0.10   \n",
       "75%          15.78         21.80          104.10     782.70             0.11   \n",
       "max          28.11         39.28          188.50    2501.00             0.16   \n",
       "\n",
       "       mean compactness  mean concavity  mean concave points  mean symmetry  \\\n",
       "count            569.00          569.00               569.00         569.00   \n",
       "mean               0.10            0.09                 0.05           0.18   \n",
       "std                0.05            0.08                 0.04           0.03   \n",
       "min                0.02            0.00                 0.00           0.11   \n",
       "25%                0.06            0.03                 0.02           0.16   \n",
       "50%                0.09            0.06                 0.03           0.18   \n",
       "75%                0.13            0.13                 0.07           0.20   \n",
       "max                0.35            0.43                 0.20           0.30   \n",
       "\n",
       "       mean fractal dimension  ...  worst radius  worst texture  \\\n",
       "count                  569.00  ...        569.00         569.00   \n",
       "mean                     0.06  ...         16.27          25.68   \n",
       "std                      0.01  ...          4.83           6.15   \n",
       "min                      0.05  ...          7.93          12.02   \n",
       "25%                      0.06  ...         13.01          21.08   \n",
       "50%                      0.06  ...         14.97          25.41   \n",
       "75%                      0.07  ...         18.79          29.72   \n",
       "max                      0.10  ...         36.04          49.54   \n",
       "\n",
       "       worst perimeter  worst area  worst smoothness  worst compactness  \\\n",
       "count           569.00      569.00            569.00             569.00   \n",
       "mean            107.26      880.58              0.13               0.25   \n",
       "std              33.60      569.36              0.02               0.16   \n",
       "min              50.41      185.20              0.07               0.03   \n",
       "25%              84.11      515.30              0.12               0.15   \n",
       "50%              97.66      686.50              0.13               0.21   \n",
       "75%             125.40     1084.00              0.15               0.34   \n",
       "max             251.20     4254.00              0.22               1.06   \n",
       "\n",
       "       worst concavity  worst concave points  worst symmetry  \\\n",
       "count           569.00                569.00          569.00   \n",
       "mean              0.27                  0.11            0.29   \n",
       "std               0.21                  0.07            0.06   \n",
       "min               0.00                  0.00            0.16   \n",
       "25%               0.11                  0.06            0.25   \n",
       "50%               0.23                  0.10            0.28   \n",
       "75%               0.38                  0.16            0.32   \n",
       "max               1.25                  0.29            0.66   \n",
       "\n",
       "       worst fractal dimension  \n",
       "count                   569.00  \n",
       "mean                      0.08  \n",
       "std                       0.02  \n",
       "min                       0.06  \n",
       "25%                       0.07  \n",
       "50%                       0.08  \n",
       "75%                       0.09  \n",
       "max                       0.21  \n",
       "\n",
       "[8 rows x 30 columns]"
      ]
     },
     "execution_count": 62,
     "metadata": {},
     "output_type": "execute_result"
    }
   ],
   "source": [
    "# input variables\n",
    "X.describe()"
   ]
  },
  {
   "cell_type": "code",
   "execution_count": 63,
   "id": "e1b5b97f",
   "metadata": {},
   "outputs": [
    {
     "data": {
      "text/plain": [
       "1   0.63\n",
       "0   0.37\n",
       "Name: target, dtype: float64"
      ]
     },
     "execution_count": 63,
     "metadata": {},
     "output_type": "execute_result"
    }
   ],
   "source": [
    "# target variable is malignant or benign (binary label).\n",
    "# let's check the distribution of labels\n",
    "y.value_counts(normalize=True)"
   ]
  },
  {
   "cell_type": "markdown",
   "id": "7c162590",
   "metadata": {},
   "source": [
    "### train/test split"
   ]
  },
  {
   "cell_type": "code",
   "execution_count": 64,
   "id": "d66c85b0",
   "metadata": {},
   "outputs": [],
   "source": [
    "X_train, X_test, y_train, y_test=train_test_split(X, y, test_size=TT_SPLIT,random_state=RAND_STATE) # splitting the data into train and test sets"
   ]
  },
  {
   "cell_type": "markdown",
   "id": "90451e49",
   "metadata": {},
   "source": [
    "### Knn_Classification"
   ]
  },
  {
   "cell_type": "code",
   "execution_count": 65,
   "id": "d0e6e40f",
   "metadata": {},
   "outputs": [],
   "source": [
    "model = KNeighborsClassifier(n_neighbors=2,weights='uniform') # declare we're using knn classification model\n",
    "model.fit(X_train, y_train) # train model\n",
    "y_pred = model.predict(X_test) # predict test\n",
    "y_pred_train=model.predict(X_train) # predict train (for sanity checks)\n",
    "#model.predict_proba(inputdata)"
   ]
  },
  {
   "cell_type": "markdown",
   "id": "7623d0d4",
   "metadata": {},
   "source": [
    "### Confusion matrices"
   ]
  },
  {
   "cell_type": "markdown",
   "id": "716262a6",
   "metadata": {},
   "source": [
    "Confusion matrices allow us to visualize how the model performs by showing how the predicted labels compare with the test labels.\n",
    "The false positives (upper right corners) and false negatives (lower left corners) impact the precision and recall scores."
   ]
  },
  {
   "cell_type": "code",
   "execution_count": 66,
   "id": "0460e8ea",
   "metadata": {},
   "outputs": [
    {
     "data": {
      "image/png": "[encoded data removed]",
      "text/plain": [
       "<Figure size 1400x400 with 4 Axes>"
      ]
     },
     "metadata": {},
     "output_type": "display_data"
    }
   ],
   "source": [
    "fig, ax = plt.subplots(1,2, figsize=(14,4))\n",
    "\n",
    "plot_confusion_matrix(model,X_train,y_train,ax=ax[0], values_format = 'd')\n",
    "ax[0].title.set_text(\"Train Set\")\n",
    "\n",
    "plot_confusion_matrix(model,X_test,y_test,ax=ax[1],values_format = 'd')\n",
    "ax[1].title.set_text(\"Test Set\")"
   ]
  },
  {
   "cell_type": "markdown",
   "id": "ddfc6fec",
   "metadata": {},
   "source": [
    "Train results: 19 predictions where the model missed a malignant case and 0 cases where the model predicted cancer where the was none.\n",
    "Test results: 5 predictions where the model misclassified malignant records and 2 cases where the model predicted a cancer where there was none."
   ]
  },
  {
   "cell_type": "markdown",
   "id": "036f8587",
   "metadata": {},
   "source": [
    "### Performance Metrics"
   ]
  },
  {
   "cell_type": "code",
   "execution_count": 67,
   "id": "1dddbc3a",
   "metadata": {},
   "outputs": [],
   "source": [
    "def evaluate_classification_model(y_train, y_pred_train, y_test, y_pred_test):\n",
    "    \"\"\"\n",
    "    Generates performance metrics and comparisons of labels with their predicted values\n",
    "    :param y_train: training labels\n",
    "    :param y_pred_train: predictions from the model on the training set\n",
    "    :param y_test: test labels\n",
    "    :param y_pred_test: predictions from the model on the test set\n",
    "    :returns: 3 dfs - Accuracy, Precision, and Recall scores, y_train vs. y_pred_train and y_test vs. y_pred_dist\n",
    "    \"\"\"\n",
    "    performance_df = pd.DataFrame({'Error_metric': ['Accuracy','Precision','Recall'],\n",
    "                               'Train': [accuracy_score(y_train, y_pred_train),\n",
    "                                         precision_score(y_train, y_pred_train),\n",
    "                                         recall_score(y_train, y_pred_train)],\n",
    "                               'Test': [accuracy_score(y_test, y_pred_test),\n",
    "                                        precision_score(y_test, y_pred_test),\n",
    "                                        recall_score(y_test, y_pred_test)]})\n",
    "    \n",
    "    pd.options.display.float_format = '{:.2f}'.format\n",
    "\n",
    "    df_train = pd.DataFrame({'Real': y_train, 'Predicted': y_pred_train})\n",
    "    df_test  = pd.DataFrame({'Real': y_test,  'Predicted': y_pred_test})\n",
    "\n",
    "    return performance_df, df_train, df_test\n",
    "\n"
   ]
  },
  {
   "cell_type": "code",
   "execution_count": 68,
   "id": "bc082e7c",
   "metadata": {},
   "outputs": [
    {
     "data": {
      "text/html": [
       "<div>\n",
       "<style scoped>\n",
       "    .dataframe tbody tr th:only-of-type {\n",
       "        vertical-align: middle;\n",
       "    }\n",
       "\n",
       "    .dataframe tbody tr th {\n",
       "        vertical-align: top;\n",
       "    }\n",
       "\n",
       "    .dataframe thead th {\n",
       "        text-align: right;\n",
       "    }\n",
       "</style>\n",
       "<table border=\"1\" class=\"dataframe\">\n",
       "  <thead>\n",
       "    <tr style=\"text-align: right;\">\n",
       "      <th></th>\n",
       "      <th>Error_metric</th>\n",
       "      <th>Train</th>\n",
       "      <th>Test</th>\n",
       "    </tr>\n",
       "  </thead>\n",
       "  <tbody>\n",
       "    <tr>\n",
       "      <th>0</th>\n",
       "      <td>Accuracy</td>\n",
       "      <td>0.96</td>\n",
       "      <td>0.94</td>\n",
       "    </tr>\n",
       "    <tr>\n",
       "      <th>1</th>\n",
       "      <td>Precision</td>\n",
       "      <td>1.00</td>\n",
       "      <td>0.97</td>\n",
       "    </tr>\n",
       "    <tr>\n",
       "      <th>2</th>\n",
       "      <td>Recall</td>\n",
       "      <td>0.93</td>\n",
       "      <td>0.93</td>\n",
       "    </tr>\n",
       "  </tbody>\n",
       "</table>\n",
       "</div>"
      ],
      "text/plain": [
       "  Error_metric  Train  Test\n",
       "0     Accuracy   0.96  0.94\n",
       "1    Precision   1.00  0.97\n",
       "2       Recall   0.93  0.93"
      ]
     },
     "execution_count": 68,
     "metadata": {},
     "output_type": "execute_result"
    }
   ],
   "source": [
    "## calling the function\n",
    "error_metrics_df,y_train_vs_predicted, y_test_vs_predicted =evaluate_classification_model(y_train, y_pred_train,y_test, y_pred)\n",
    "error_metrics_df"
   ]
  },
  {
   "cell_type": "markdown",
   "id": "3867a6f5",
   "metadata": {},
   "source": [
    "## AUC-ROC"
   ]
  },
  {
   "cell_type": "markdown",
   "id": "28a51cf6",
   "metadata": {},
   "source": [
    "The Receiver Operating Characteristic (ROC) curve is a graphical representation of the performance of a binary classifier system as the discrimination threshold is varied. It is a widely used evaluation metric for binary classification problems, especially when the classes are imbalanced.\n",
    "\n",
    "The ROC curve plots the true positive rate (TPR) against the false positive rate (FPR) at various threshold settings. TPR is also known as sensitivity or recall, and it represents the proportion of actual positive cases that are correctly identified by the classifier. FPR is the proportion of actual negative cases that are incorrectly identified as positive by the classifier. Therefore, the ROC curve shows how well the classifier can distinguish between positive and negative cases, and how well it performs across a range of possible classification thresholds.\n",
    "\n",
    "The ROC curve is created by plotting the TPR on the y-axis and the FPR on the x-axis. The curve is obtained by connecting the points corresponding to the different threshold settings of the classifier. A diagonal line from the bottom left corner to the top right corner represents the performance of a random classifier, and any classifier with a curve above this line is considered better than random. The closer the curve is to the top left corner, the better the classifier's performance. The area under the ROC curve (AUC) is a common metric used to quantify the performance of the classifier, with an AUC of 1.0 indicating perfect classification and an AUC of 0.5 indicating a random classifier.\n",
    "\n",
    "In summary, the ROC curve provides a way to visualize and evaluate the performance of a binary classifier system across a range of possible threshold settings. It is a useful tool for comparing the performance of different classifiers, and for choosing an appropriate threshold setting based on the desired balance between TPR and FPR."
   ]
  },
  {
   "cell_type": "code",
   "execution_count": 69,
   "id": "6ee96b50",
   "metadata": {},
   "outputs": [
    {
     "data": {
      "image/png": "[encoded data removed]",
      "text/plain": [
       "<Figure size 640x480 with 1 Axes>"
      ]
     },
     "metadata": {},
     "output_type": "display_data"
    }
   ],
   "source": [
    "# Predict probabilities for the test set\n",
    "probs = model.predict_proba(X_test)[:, 1]\n",
    "\n",
    "# Compute the false positive rate, true positive rate, and thresholds\n",
    "fpr, tpr, thresholds = roc_curve(y_test, probs)\n",
    "\n",
    "# Compute the Area Under the Curve (AUC)\n",
    "roc_auc = auc(fpr, tpr)\n",
    "\n",
    "# Plot the ROC curve\n",
    "plt.plot(fpr, tpr, label='ROC curve (area = %0.2f)' % roc_auc)\n",
    "plt.plot([0, 1], [0, 1], 'k--')\n",
    "plt.xlabel('False Positive Rate')\n",
    "plt.ylabel('True Positive Rate')\n",
    "plt.title('Receiver Operating Characteristic (ROC) Curve')\n",
    "plt.legend(loc='lower right')\n",
    "plt.show()"
   ]
  },
  {
   "cell_type": "markdown",
   "id": "9a0cc2c8",
   "metadata": {},
   "source": [
    "<b> a simple example of calculating an ROC curve manually.<b>\n",
    "\n",
    "Suppose we have a binary classification problem with 10 positive and 10 negative examples, and we have a classifier that produces continuous scores between 0 and 1. The scores for the positive examples are as follows:\n",
    "\n",
    "[0.9, 0.8, 0.7, 0.6, 0.5, 0.4, 0.3, 0.2, 0.1, 0.05]\n",
    "\n",
    "The scores for the negative examples are as follows:\n",
    "\n",
    "[0.25, 0.3, 0.35, 0.4, 0.45, 0.5, 0.55, 0.6, 0.65, 0.7]\n",
    "\n",
    "We can calculate the ROC curve as follows:\n",
    "\n",
    "1. Sort the scores in descending order:\n",
    "[0.9, 0.8, 0.7, 0.6, 0.5, 0.4, 0.3, 0.2, 0.1, 0.05, 0.7, 0.65, 0.6, 0.55, 0.5, 0.45, 0.4, 0.35, 0.3, 0.25]\n",
    "\n",
    "2.  Set the threshold.\n",
    "3.  For each score in the sorted list, calculate the TPR and FPR for the current threshold. The TPR is the proportion of positive examples that are correctly classified as positive (i.e., true positives), and the FPR is the proportion of negative examples that are incorrectly classified as positive (i.e., false positives). Record these values for each score.\n",
    "\n",
    "For example, if the threshold is set to 1 (i.e., all examples are classified as negative), the TPR is 0/10 = 0 and the FPR is 0/10 = 0. If the threshold is set to 0.9, the TPR is 1/10 = 0.1 and the FPR is 0/10 = 0. If the threshold is set to 0.8, the TPR is 2/10 = 0.2 and the FPR is 0/10 = 0. Continue this process for each score in the sorted list.\n",
    "\n",
    "4. Plot the resulting TPR versus FPR for each threshold value. This gives us the ROC curve.\n",
    "5. Calculate the AUC by numerically integrating the area under the ROC curve using a method such as the trapezoidal rule."
   ]
  },
  {
   "cell_type": "code",
   "execution_count": null,
   "id": "b56e54e9",
   "metadata": {},
   "outputs": [],
   "source": []
  }
 ],
 "metadata": {
  "kernelspec": {
   "display_name": "Python 3 (ipykernel)",
   "language": "python",
   "name": "python3"
  },
  "language_info": {
   "codemirror_mode": {
    "name": "ipython",
    "version": 3
   },
   "file_extension": ".py",
   "mimetype": "text/x-python",
   "name": "python",
   "nbconvert_exporter": "python",
   "pygments_lexer": "ipython3",
   "version": "3.9.16"
  },
  "toc": {
   "base_numbering": 1,
   "nav_menu": {},
   "number_sections": true,
   "sideBar": true,
   "skip_h1_title": false,
   "title_cell": "Table of Contents",
   "title_sidebar": "Contents",
   "toc_cell": false,
   "toc_position": {},
   "toc_section_display": true,
   "toc_window_display": false
  }
 },
 "nbformat": 4,
 "nbformat_minor": 5
}
